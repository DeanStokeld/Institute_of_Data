{
 "cells": [
  {
   "cell_type": "markdown",
   "metadata": {
    "colab_type": "text",
    "id": "zYPZ2MKXMk4U"
   },
   "source": [
    "<div>\n",
    "<img src=https://www.institutedata.com/wp-content/uploads/2019/10/iod_h_tp_primary_c.svg width=\"300\">\n",
    "</div>"
   ]
  },
  {
   "cell_type": "markdown",
   "metadata": {
    "colab_type": "text",
    "id": "8j6-MfKHMk4Y"
   },
   "source": [
    "# Lab 8.2: Web Scraping\n",
    "INSTRUCTIONS:\n",
    "- Read the guides and hints then create the necessary analysis and code to find an answer and conclusion for the task below."
   ]
  },
  {
   "cell_type": "markdown",
   "metadata": {
    "colab_type": "text",
    "id": "HImUFlzCMk4c"
   },
   "source": [
    "# Web Scraping in Python (using BeautifulSoup)\n",
    "\n",
    "## Scraping Rules\n",
    "1. **Always** check a website’s **Terms and Conditions** before you scrape it. Be careful to read the statements about legal use of data. Usually, the retrieved data should not be used for commercial purposes.\n",
    "2. **Do not** request data from the website too aggressively with a program (also known as spamming), as this may break the website. Make sure the program behaves in a reasonable manner (i.e. acts like a human). One request for one webpage per second is good practice.\n",
    "3. The layout of a website may change from time to time, so make sure to revisit the site and rewrite the code as needed"
   ]
  },
  {
   "cell_type": "markdown",
   "metadata": {
    "colab_type": "text",
    "id": "l6UcvsYfMk4f"
   },
   "source": [
    "## Find a Page\n",
    "Visit the [Fandom](http://fandom.wikia.com) website, find a wikia of your interest and pick a page to work with."
   ]
  },
  {
   "cell_type": "markdown",
   "metadata": {
    "colab_type": "text",
    "id": "-NXv6z-6Mk4i"
   },
   "source": [
    "Open a web page with the browser and inspect it.\n",
    "\n",
    "Hover the cursor on the text and follow the shaded box surrounding the main text.\n",
    "\n",
    "From the result, check the main text inside a few levels of HTML tags."
   ]
  },
  {
   "cell_type": "code",
   "execution_count": 1,
   "metadata": {
    "colab": {},
    "colab_type": "code",
    "id": "nYkrA5JuMk4m"
   },
   "outputs": [],
   "source": [
    "## Import Libraries\n",
    "\n",
    "import regex as re\n",
    "\n",
    "from urllib.parse import unquote\n",
    "import urllib3\n",
    "from bs4 import BeautifulSoup\n",
    "\n",
    "import warnings\n",
    "warnings.filterwarnings('ignore')"
   ]
  },
  {
   "cell_type": "markdown",
   "metadata": {
    "colab_type": "text",
    "id": "hb3_djX0Mk4s"
   },
   "source": [
    "### Define the content to retrieve (webpage's URL)"
   ]
  },
  {
   "cell_type": "code",
   "execution_count": 4,
   "metadata": {},
   "outputs": [],
   "source": [
    "HP = 'https://harrypotter.fandom.com/wiki/Harry_Potter'"
   ]
  },
  {
   "cell_type": "markdown",
   "metadata": {
    "colab_type": "text",
    "id": "pKYTTGA1Mk4t"
   },
   "source": [
    "### Retrieve the page\n",
    "- Require Internet connection"
   ]
  },
  {
   "cell_type": "code",
   "execution_count": 5,
   "metadata": {},
   "outputs": [
    {
     "name": "stdout",
     "output_type": "stream",
     "text": [
      "Type of the variable 'page': bytes\n",
      "Page Retrieved. Request Status: 200, Page Size: 1722934\n"
     ]
    }
   ],
   "source": [
    "# query the website and return the html to the variable ‘page’\n",
    "http = urllib3.PoolManager()\n",
    "r = http.request('GET', HP)\n",
    "if r.status == 200:\n",
    "    page = r.data\n",
    "    print('Type of the variable \\'page\\':', page.__class__.__name__)\n",
    "    print('Page Retrieved. Request Status: %d, Page Size: %d' % (r.status, len(page)))\n",
    "else:\n",
    "    print('Some problem occurred. Request Status: %s' % r.status)"
   ]
  },
  {
   "cell_type": "markdown",
   "metadata": {
    "colab_type": "text",
    "id": "w7HYoOoDMk4v"
   },
   "source": [
    "### Convert the stream of bytes into a BeautifulSoup representation"
   ]
  },
  {
   "cell_type": "code",
   "execution_count": 6,
   "metadata": {},
   "outputs": [
    {
     "name": "stdout",
     "output_type": "stream",
     "text": [
      "Type of the variable 'soup': BeautifulSoup\n"
     ]
    }
   ],
   "source": [
    "soup = BeautifulSoup(page, 'html.parser')\n",
    "print('Type of the variable \\'soup\\':', soup.__class__.__name__)"
   ]
  },
  {
   "cell_type": "code",
   "execution_count": 8,
   "metadata": {},
   "outputs": [],
   "source": [
    "#soup"
   ]
  },
  {
   "cell_type": "markdown",
   "metadata": {
    "colab_type": "text",
    "id": "Zb0yHBblMk4w"
   },
   "source": [
    "### Check the content\n",
    "- The HTML source\n",
    "- Includes all tags and scripts\n",
    "- Can be long!"
   ]
  },
  {
   "cell_type": "code",
   "execution_count": 9,
   "metadata": {},
   "outputs": [
    {
     "name": "stdout",
     "output_type": "stream",
     "text": [
      "<!DOCTYPE html>\n",
      "<html class=\"client-nojs\" dir=\"ltr\" lang=\"en\">\n",
      " <head>\n",
      "  <meta charset=\"utf-8\"/>\n",
      "  <title>\n",
      "   Harry Potter | Harry Potter Wiki | Fandom\n",
      "  </title>\n",
      "  <script>\n",
      "   document.documentElement.className = document.documentElement.className.replace( /(^|\\s)client-nojs(\\s|$)/, \"$1client-js$2\" );\n",
      "  </script>\n",
      "  <script>\n",
      "   (window.RLQ=window.RLQ||[]).push(function(){mw.config.set({\"wgCanonicalNamespace\":\"\",\"wgCanonicalSpecialPageName\":false,\"wgNamespaceNumber\":0,\"wgPageName\":\"Harry_Potter\",\"wgTitle\":\"Harry Potter\",\"wgCurRevisionId\":1561705,\"wgRevisionId\":1561705,\"wgArticleId\":13,\"wgIsArticle\":true,\"wgIsRedirect\":false,\"wgAction\":\"view\",\"wgUserName\":null,\"wgUserGroups\":[\"*\"],\"wgCategories\":[\"Articles with information from Harry Potter and the Chamber of Secrets\",\"Articles with information from Pottermore\",\"Articles with information from Harry Potter and the Cursed Child\",\"Articles with information from Harry Potter and the Philosopher's Stone\",\"Articles with information from Harry \n"
     ]
    }
   ],
   "source": [
    "print(soup.prettify()[:1000])"
   ]
  },
  {
   "cell_type": "markdown",
   "metadata": {
    "colab_type": "text",
    "id": "Hy2z1218Mk4x"
   },
   "source": [
    "### Check the HTML's Title"
   ]
  },
  {
   "cell_type": "code",
   "execution_count": 11,
   "metadata": {},
   "outputs": [
    {
     "name": "stdout",
     "output_type": "stream",
     "text": [
      "Title tag :<title>Harry Potter | Harry Potter Wiki | Fandom</title>:\n",
      "Title text:Harry Potter | Harry Potter Wiki | Fandom:\n"
     ]
    }
   ],
   "source": [
    "print('Title tag :%s:' % soup.title)\n",
    "print('Title text:%s:' % soup.title.string)"
   ]
  },
  {
   "cell_type": "markdown",
   "metadata": {
    "colab_type": "text",
    "id": "NV3IJlHQMk4z"
   },
   "source": [
    "### Find the main content\n",
    "- Check if it is possible to use only the relevant data"
   ]
  },
  {
   "cell_type": "code",
   "execution_count": 13,
   "metadata": {},
   "outputs": [],
   "source": [
    "#soup.find_all('a')"
   ]
  },
  {
   "cell_type": "code",
   "execution_count": 14,
   "metadata": {},
   "outputs": [
    {
     "name": "stdout",
     "output_type": "stream",
     "text": [
      "Type of the variable 'article': Tag\n"
     ]
    }
   ],
   "source": [
    "tag = 'nav'\n",
    "nav = soup.find_all(tag)[0]\n",
    "print('Type of the variable \\'article\\':', nav.__class__.__name__)"
   ]
  },
  {
   "cell_type": "markdown",
   "metadata": {
    "colab_type": "text",
    "id": "sEioc2exMk40"
   },
   "source": [
    "### Get some of the text\n",
    "- Plain text without HTML tags"
   ]
  },
  {
   "cell_type": "code",
   "execution_count": 15,
   "metadata": {},
   "outputs": [
    {
     "name": "stdout",
     "output_type": "stream",
     "text": [
      "\n",
      " Explore\n",
      " \n",
      " Main Page\n",
      " Discuss\n",
      "All Pages\n",
      "Community\n",
      "Recent Blog Posts\n",
      "Books\n",
      " \n",
      "The Seven Novels\n",
      " \n",
      "Harry Potter and the Philosopher's Stone\n",
      "Harry Potter and the Chamber of Secrets\n",
      "Harry Potter and the Prisoner of Azkaban\n",
      "Harry Potter and the Goblet of Fire\n",
      "Harry Potter and the Order of the Phoenix\n",
      "Harry Potter and the Half-Blood Prince\n",
      "Harry Potter and the Deathly Hallows\n",
      "Rowling's Companion Writings\n",
      " \n",
      "Fantastic Beasts and Where to Find Them\n",
      "Quidditch Through the Ages\n",
      "The Tales of Beedle the Bard\n",
      "\n"
     ]
    }
   ],
   "source": [
    "# show the first 500 characters after removing redundant newlines\n",
    "print(re.sub(r'\\n\\n+', '\\n', nav.text)[:500])"
   ]
  },
  {
   "cell_type": "markdown",
   "metadata": {
    "colab_type": "text",
    "id": "Gdf3no5jMk41"
   },
   "source": [
    "### Find the links in the text"
   ]
  },
  {
   "cell_type": "code",
   "execution_count": 16,
   "metadata": {},
   "outputs": [
    {
     "data": {
      "text/plain": [
       "['#',\n",
       " 'https://harrypotter.fandom.com/wiki/Main_Page',\n",
       " '/f',\n",
       " 'https://harrypotter.fandom.com/wiki/Special:AllPages',\n",
       " 'https://harrypotter.fandom.com/wiki/Special:Community',\n",
       " '/Blog:Recent_posts',\n",
       " 'https://harrypotter.fandom.com/wiki/Category:Books_(real-world)',\n",
       " 'https://harrypotter.fandom.com/wiki/Harry_Potter_(book_series)',\n",
       " 'https://harrypotter.fandom.com/wiki/Harry_Potter_and_the_Philosopher%27s_Stone',\n",
       " 'https://harrypotter.fandom.com/wiki/Harry_Potter_and_the_Chamber_of_Secrets',\n",
       " 'https://harrypotter.fandom.com/wiki/Harry_Potter_and_the_Prisoner_of_Azkaban',\n",
       " 'https://harrypotter.fandom.com/wiki/Harry_Potter_and_the_Goblet_of_Fire',\n",
       " 'https://harrypotter.fandom.com/wiki/Harry_Potter_and_the_Order_of_the_Phoenix',\n",
       " 'https://harrypotter.fandom.com/wiki/Harry_Potter_and_the_Half-Blood_Prince',\n",
       " 'https://harrypotter.fandom.com/wiki/Harry_Potter_and_the_Deathly_Hallows',\n",
       " 'https://harrypotter.fandom.com/wiki/Category:Books_(real-world)',\n",
       " 'https://harrypotter.fandom.com/wiki/Fantastic_Beasts_and_Where_to_Find_Them_(real)',\n",
       " 'https://harrypotter.fandom.com/wiki/Quidditch_Through_the_Ages_(real)',\n",
       " 'https://harrypotter.fandom.com/wiki/The_Tales_of_Beedle_the_Bard_(real)',\n",
       " 'https://harrypotter.fandom.com/wiki/Harry_Potter_Prequel',\n",
       " 'https://harrypotter.fandom.com/wiki/Pottermore',\n",
       " 'https://harrypotter.fandom.com/wiki/Category:Books_(real-world)',\n",
       " 'https://harrypotter.fandom.com/wiki/Harry_Potter:_A_Pop-Up_Book',\n",
       " 'https://harrypotter.fandom.com/wiki/Harry_Potter_Film_Wizardry',\n",
       " 'https://harrypotter.fandom.com/wiki/Harry_Potter_Page_to_Screen:_The_Complete_Filmmaking_Journey',\n",
       " 'https://harrypotter.fandom.com/wiki/LEGO_Harry_Potter:_Building_the_Magical_World',\n",
       " 'https://harrypotter.fandom.com/wiki/LEGO_Harry_Potter:_Characters_of_the_Magical_World',\n",
       " 'https://harrypotter.fandom.com/wiki/Category:Individuals',\n",
       " 'https://harrypotter.fandom.com/wiki/Harry_Potter',\n",
       " 'https://harrypotter.fandom.com/wiki/Hermione_Granger',\n",
       " 'https://harrypotter.fandom.com/wiki/Ronald_Weasley',\n",
       " 'https://harrypotter.fandom.com/wiki/Ginevra_Weasley',\n",
       " 'https://harrypotter.fandom.com/wiki/Albus_Dumbledore',\n",
       " 'https://harrypotter.fandom.com/wiki/Tom_Riddle',\n",
       " 'https://harrypotter.fandom.com/wiki/Neville_Longbottom',\n",
       " 'https://harrypotter.fandom.com/wiki/Draco_Malfoy',\n",
       " 'https://harrypotter.fandom.com/wiki/Severus_Snape',\n",
       " 'https://harrypotter.fandom.com/wiki/Rubeus_Hagrid',\n",
       " 'https://harrypotter.fandom.com/wiki/Category:Films_(real-world)',\n",
       " 'https://harrypotter.fandom.com/wiki/Harry_Potter_(film_series)',\n",
       " 'https://harrypotter.fandom.com/wiki/Harry_Potter_and_the_Philosopher%27s_Stone_(film)',\n",
       " 'https://harrypotter.fandom.com/wiki/Harry_Potter_and_the_Chamber_of_Secrets_(film)',\n",
       " 'https://harrypotter.fandom.com/wiki/Harry_Potter_and_the_Prisoner_of_Azkaban_(film)',\n",
       " 'https://harrypotter.fandom.com/wiki/Harry_Potter_and_the_Goblet_of_Fire_(film)',\n",
       " 'https://harrypotter.fandom.com/wiki/Harry_Potter_and_the_Order_of_the_Phoenix_(film)',\n",
       " 'https://harrypotter.fandom.com/wiki/Harry_Potter_and_the_Half-Blood_Prince_(film)',\n",
       " 'https://harrypotter.fandom.com/wiki/Harry_Potter_and_the_Deathly_Hallows:_Part_1',\n",
       " 'https://harrypotter.fandom.com/wiki/Harry_Potter_and_the_Deathly_Hallows:_Part_2',\n",
       " 'https://harrypotter.fandom.com/wiki/Fantastic_Beasts_(film_series)',\n",
       " 'https://harrypotter.fandom.com/wiki/Fantastic_Beasts_and_Where_to_Find_Them_(film)',\n",
       " 'https://harrypotter.fandom.com/wiki/Fantastic_Beasts:_The_Crimes_of_Grindelwald',\n",
       " 'https://harrypotter.fandom.com/wiki/Category:Films_(real-world)',\n",
       " 'https://harrypotter.fandom.com/wiki/Harry_Potter_and_Me',\n",
       " 'https://harrypotter.fandom.com/wiki/The_Queen%27s_Handbag',\n",
       " 'https://harrypotter.fandom.com/wiki/J.K._Rowling:_A_Year_in_the_Life',\n",
       " 'https://harrypotter.fandom.com/wiki/Magic_Beyond_Words:_The_J.K._Rowling_Story',\n",
       " 'https://harrypotter.fandom.com/wiki/Category:Actors_(real-world)',\n",
       " 'https://harrypotter.fandom.com/wiki/Daniel_Radcliffe',\n",
       " 'https://harrypotter.fandom.com/wiki/Rupert_Grint',\n",
       " 'https://harrypotter.fandom.com/wiki/Emma_Watson',\n",
       " 'https://harrypotter.fandom.com/wiki/Tom_Felton',\n",
       " 'https://harrypotter.fandom.com/wiki/Ralph_Fiennes',\n",
       " 'https://harrypotter.fandom.com/wiki/Alan_Rickman',\n",
       " 'https://harrypotter.fandom.com/wiki/Maggie_Smith',\n",
       " 'https://harrypotter.fandom.com/wiki/Michael_Gambon',\n",
       " 'https://harrypotter.fandom.com/wiki/Category:Directors_(real-world)',\n",
       " 'https://harrypotter.fandom.com/wiki/Chris_Columbus',\n",
       " 'https://harrypotter.fandom.com/wiki/Alfonso_Cuar%C3%B3n',\n",
       " 'https://harrypotter.fandom.com/wiki/Mike_Newell',\n",
       " 'https://harrypotter.fandom.com/wiki/David_Yates',\n",
       " 'https://harrypotter.fandom.com/wiki/Category:Video_games_(real-world)',\n",
       " 'https://harrypotter.fandom.com/wiki/Harry_Potter:_Hogwarts_Mystery',\n",
       " 'https://harrypotter.fandom.com/wiki/Jacob%27s_sibling',\n",
       " 'https://harrypotter.fandom.com/wiki/Rowan_Khanna',\n",
       " 'https://harrypotter.fandom.com/wiki/Penny_Haywood',\n",
       " 'https://harrypotter.fandom.com/wiki/Talbott_Winger',\n",
       " 'https://harrypotter.fandom.com/wiki/Chiara_Lobosca',\n",
       " 'https://harrypotter.fandom.com/wiki/Patricia_Rakepick',\n",
       " 'https://harrypotter.fandom.com/wiki/Cursed_Vaults',\n",
       " 'https://harrypotter.fandom.com/wiki/R',\n",
       " 'https://harrypotter.fandom.com/wiki/Harry_Potter:_Wizards_Unite',\n",
       " 'https://harrypotter.fandom.com/wiki/Constance_Pickering',\n",
       " 'https://harrypotter.fandom.com/wiki/Grim_Fawley',\n",
       " 'https://harrypotter.fandom.com/wiki/Exploding_Charm',\n",
       " 'https://harrypotter.fandom.com/wiki/Fire-Making_Spell',\n",
       " 'https://harrypotter.fandom.com/wiki/Exstimulo_Potion',\n",
       " 'https://harrypotter.fandom.com/wiki/Invigoration_Potion',\n",
       " 'https://harrypotter.fandom.com/wiki/Foundable',\n",
       " 'https://harrypotter.fandom.com/wiki/Portkey_Portmanteau',\n",
       " 'https://harrypotter.fandom.com/wiki/Runestone',\n",
       " 'https://harrypotter.fandom.com/wiki/Fantastic_Beasts:_Cases_from_the_Wizarding_World',\n",
       " 'https://harrypotter.fandom.com/wiki/Mathilda_Grimblehawk',\n",
       " 'https://harrypotter.fandom.com/wiki/Cerberus_Langarm',\n",
       " 'https://harrypotter.fandom.com/wiki/Omar_Abasi',\n",
       " 'https://harrypotter.fandom.com/wiki/Sage_Bragnam',\n",
       " 'https://harrypotter.fandom.com/wiki/Gethsemane_Prickle',\n",
       " 'https://harrypotter.fandom.com/wiki/Myra_Curio',\n",
       " 'https://harrypotter.fandom.com/wiki/Harry_Potter:_Magic_Awakened',\n",
       " 'https://harrypotter.fandom.com/wiki/Unidentified_Muggle-born_Hogwarts_student',\n",
       " 'https://harrypotter.fandom.com/wiki/Daniel_Page',\n",
       " 'https://harrypotter.fandom.com/wiki/Lottie_Turner',\n",
       " 'https://harrypotter.fandom.com/wiki/Robyn_Thistlethwaite',\n",
       " 'https://harrypotter.fandom.com/wiki/Cassandra_Vole',\n",
       " 'https://harrypotter.fandom.com/wiki/Ivy_Warrington',\n",
       " 'https://harrypotter.fandom.com/wiki/Colby_Frey',\n",
       " 'https://harrypotter.fandom.com/wiki/Hogwarts_Legacy',\n",
       " 'https://harrypotter.fandom.com/wiki/19th_century',\n",
       " 'https://harrypotter.fandom.com/wiki/Unidentified_19th-century_Potions_professor',\n",
       " 'https://harrypotter.fandom.com/wiki/Unidentified_19th-century_Herbology_professor',\n",
       " 'https://harrypotter.fandom.com/wiki/LEGO_(real-world)',\n",
       " 'https://harrypotter.fandom.com/wiki/LEGO_Creator:_Harry_Potter',\n",
       " 'https://harrypotter.fandom.com/wiki/Creator:_Harry_Potter_and_the_Chamber_of_Secrets',\n",
       " 'https://harrypotter.fandom.com/wiki/LEGO_Harry_Potter:_Years_1-4',\n",
       " 'https://harrypotter.fandom.com/wiki/LEGO_Harry_Potter:_Years_5-7',\n",
       " 'https://harrypotter.fandom.com/wiki/LEGO_Dimensions',\n",
       " 'https://harrypotter.fandom.com/wiki/Category:Video_games_(real-world)',\n",
       " 'https://harrypotter.fandom.com/wiki/Harry_Potter_and_the_Philosopher%27s_Stone_(video_game)',\n",
       " 'https://harrypotter.fandom.com/wiki/Harry_Potter_and_the_Chamber_of_Secrets_(video_game)',\n",
       " 'https://harrypotter.fandom.com/wiki/Harry_Potter_and_the_Prisoner_of_Azkaban_(video_game)',\n",
       " 'https://harrypotter.fandom.com/wiki/Harry_Potter_and_the_Goblet_of_Fire_(video_game)',\n",
       " 'https://harrypotter.fandom.com/wiki/Harry_Potter_and_the_Order_of_the_Phoenix_(video_game)',\n",
       " 'https://harrypotter.fandom.com/wiki/Harry_Potter_and_the_Half-Blood_Prince_(video_game)',\n",
       " 'https://harrypotter.fandom.com/wiki/Harry_Potter_and_the_Deathly_Hallows:_Part_1_(video_game)',\n",
       " 'https://harrypotter.fandom.com/wiki/Harry_Potter_and_the_Deathly_Hallows:_Part_2_(video_game)',\n",
       " 'https://harrypotter.fandom.com/wiki/Harry_Potter:_Quidditch_World_Cup',\n",
       " 'https://harrypotter.fandom.com/wiki/Wonderbook:_Book_of_Spells',\n",
       " 'https://harrypotter.fandom.com/wiki/Harry_Potter_Wiki:Community_portal',\n",
       " 'https://harrypotter.fandom.com/wiki/Forum:Harry_Potter_Wiki_Forums',\n",
       " 'https://harrypotter.fandom.com/wiki/Harry_Potter_Wiki:Policy',\n",
       " 'https://harrypotter.fandom.com/wiki/Harry_Potter_Wiki:Administrators',\n",
       " 'https://harrypotter.fandom.com/wiki/Help:Editing',\n",
       " 'https://harrypotter.fandom.com/wiki/Harry_Potter_Wiki:Sandbox',\n",
       " 'https://harrypotter.fandom.com/wiki/Special:RecentChanges']"
      ]
     },
     "execution_count": 16,
     "metadata": {},
     "output_type": "execute_result"
    }
   ],
   "source": [
    "# identify the type of tag to retrieve\n",
    "tag = 'a'\n",
    "# create a list with the links from the `<a>` tag\n",
    "tag_list = [t.get('href') for t in nav.find_all(tag)]\n",
    "tag_list"
   ]
  },
  {
   "cell_type": "code",
   "execution_count": 17,
   "metadata": {},
   "outputs": [
    {
     "data": {
      "text/plain": [
       "['ain_Page',\n",
       " 'pecial:AllPages',\n",
       " 'pecial:Community',\n",
       " 'ategory:Books_(real-world)',\n",
       " 'arry_Potter_(book_series)',\n",
       " 'arry_Potter_and_the_Philosopher%27s_Stone',\n",
       " 'arry_Potter_and_the_Chamber_of_Secrets',\n",
       " 'arry_Potter_and_the_Prisoner_of_Azkaban',\n",
       " 'arry_Potter_and_the_Goblet_of_Fire',\n",
       " 'arry_Potter_and_the_Order_of_the_Phoenix',\n",
       " 'arry_Potter_and_the_Half-Blood_Prince',\n",
       " 'arry_Potter_and_the_Deathly_Hallows',\n",
       " 'ategory:Books_(real-world)',\n",
       " 'antastic_Beasts_and_Where_to_Find_Them_(real)',\n",
       " 'uidditch_Through_the_Ages_(real)',\n",
       " 'he_Tales_of_Beedle_the_Bard_(real)',\n",
       " 'arry_Potter_Prequel',\n",
       " 'ottermore',\n",
       " 'ategory:Books_(real-world)',\n",
       " 'arry_Potter:_A_Pop-Up_Book',\n",
       " 'arry_Potter_Film_Wizardry',\n",
       " 'arry_Potter_Page_to_Screen:_The_Complete_Filmmaking_Journey',\n",
       " 'EGO_Harry_Potter:_Building_the_Magical_World',\n",
       " 'EGO_Harry_Potter:_Characters_of_the_Magical_World',\n",
       " 'ategory:Individuals',\n",
       " 'arry_Potter',\n",
       " 'ermione_Granger',\n",
       " 'onald_Weasley',\n",
       " 'inevra_Weasley',\n",
       " 'lbus_Dumbledore',\n",
       " 'om_Riddle',\n",
       " 'eville_Longbottom',\n",
       " 'raco_Malfoy',\n",
       " 'everus_Snape',\n",
       " 'ubeus_Hagrid',\n",
       " 'ategory:Films_(real-world)',\n",
       " 'arry_Potter_(film_series)',\n",
       " 'arry_Potter_and_the_Philosopher%27s_Stone_(film)',\n",
       " 'arry_Potter_and_the_Chamber_of_Secrets_(film)',\n",
       " 'arry_Potter_and_the_Prisoner_of_Azkaban_(film)',\n",
       " 'arry_Potter_and_the_Goblet_of_Fire_(film)',\n",
       " 'arry_Potter_and_the_Order_of_the_Phoenix_(film)',\n",
       " 'arry_Potter_and_the_Half-Blood_Prince_(film)',\n",
       " 'arry_Potter_and_the_Deathly_Hallows:_Part_1',\n",
       " 'arry_Potter_and_the_Deathly_Hallows:_Part_2',\n",
       " 'antastic_Beasts_(film_series)',\n",
       " 'antastic_Beasts_and_Where_to_Find_Them_(film)',\n",
       " 'antastic_Beasts:_The_Crimes_of_Grindelwald',\n",
       " 'ategory:Films_(real-world)',\n",
       " 'arry_Potter_and_Me',\n",
       " 'he_Queen%27s_Handbag',\n",
       " '.K._Rowling:_A_Year_in_the_Life',\n",
       " 'agic_Beyond_Words:_The_J.K._Rowling_Story',\n",
       " 'ategory:Actors_(real-world)',\n",
       " 'aniel_Radcliffe',\n",
       " 'upert_Grint',\n",
       " 'mma_Watson',\n",
       " 'om_Felton',\n",
       " 'alph_Fiennes',\n",
       " 'lan_Rickman',\n",
       " 'aggie_Smith',\n",
       " 'ichael_Gambon',\n",
       " 'ategory:Directors_(real-world)',\n",
       " 'hris_Columbus',\n",
       " 'lfonso_Cuar%C3%B3n',\n",
       " 'ike_Newell',\n",
       " 'avid_Yates',\n",
       " 'ategory:Video_games_(real-world)',\n",
       " 'arry_Potter:_Hogwarts_Mystery',\n",
       " 'acob%27s_sibling',\n",
       " 'owan_Khanna',\n",
       " 'enny_Haywood',\n",
       " 'albott_Winger',\n",
       " 'hiara_Lobosca',\n",
       " 'atricia_Rakepick',\n",
       " 'ursed_Vaults',\n",
       " '',\n",
       " 'arry_Potter:_Wizards_Unite',\n",
       " 'onstance_Pickering',\n",
       " 'rim_Fawley',\n",
       " 'xploding_Charm',\n",
       " 'ire-Making_Spell',\n",
       " 'xstimulo_Potion',\n",
       " 'nvigoration_Potion',\n",
       " 'oundable',\n",
       " 'ortkey_Portmanteau',\n",
       " 'unestone',\n",
       " 'antastic_Beasts:_Cases_from_the_Wizarding_World',\n",
       " 'athilda_Grimblehawk',\n",
       " 'erberus_Langarm',\n",
       " 'mar_Abasi',\n",
       " 'age_Bragnam',\n",
       " 'ethsemane_Prickle',\n",
       " 'yra_Curio',\n",
       " 'arry_Potter:_Magic_Awakened',\n",
       " 'nidentified_Muggle-born_Hogwarts_student',\n",
       " 'aniel_Page',\n",
       " 'ottie_Turner',\n",
       " 'obyn_Thistlethwaite',\n",
       " 'assandra_Vole',\n",
       " 'vy_Warrington',\n",
       " 'olby_Frey',\n",
       " 'ogwarts_Legacy',\n",
       " '9th_century',\n",
       " 'nidentified_19th-century_Potions_professor',\n",
       " 'nidentified_19th-century_Herbology_professor',\n",
       " 'EGO_(real-world)',\n",
       " 'EGO_Creator:_Harry_Potter',\n",
       " 'reator:_Harry_Potter_and_the_Chamber_of_Secrets',\n",
       " 'EGO_Harry_Potter:_Years_1-4',\n",
       " 'EGO_Harry_Potter:_Years_5-7',\n",
       " 'EGO_Dimensions',\n",
       " 'ategory:Video_games_(real-world)',\n",
       " 'arry_Potter_and_the_Philosopher%27s_Stone_(video_game)',\n",
       " 'arry_Potter_and_the_Chamber_of_Secrets_(video_game)',\n",
       " 'arry_Potter_and_the_Prisoner_of_Azkaban_(video_game)',\n",
       " 'arry_Potter_and_the_Goblet_of_Fire_(video_game)',\n",
       " 'arry_Potter_and_the_Order_of_the_Phoenix_(video_game)',\n",
       " 'arry_Potter_and_the_Half-Blood_Prince_(video_game)',\n",
       " 'arry_Potter_and_the_Deathly_Hallows:_Part_1_(video_game)',\n",
       " 'arry_Potter_and_the_Deathly_Hallows:_Part_2_(video_game)',\n",
       " 'arry_Potter:_Quidditch_World_Cup',\n",
       " 'onderbook:_Book_of_Spells',\n",
       " 'arry_Potter_Wiki:Community_portal',\n",
       " 'orum:Harry_Potter_Wiki_Forums',\n",
       " 'arry_Potter_Wiki:Policy',\n",
       " 'arry_Potter_Wiki:Administrators',\n",
       " 'elp:Editing',\n",
       " 'arry_Potter_Wiki:Sandbox',\n",
       " 'pecial:RecentChanges']"
      ]
     },
     "execution_count": 17,
     "metadata": {},
     "output_type": "execute_result"
    }
   ],
   "source": [
    "# keep only the links to the wiki itself\n",
    "tag_list = [t[37:] for t in tag_list if (t) and ('/wiki/' in t)]\n",
    "tag_list"
   ]
  },
  {
   "cell_type": "markdown",
   "metadata": {
    "colab_type": "text",
    "id": "2RNySAm5Mk42"
   },
   "source": [
    "### Create a filter for unwanted types of articles"
   ]
  },
  {
   "cell_type": "code",
   "execution_count": 18,
   "metadata": {},
   "outputs": [
    {
     "data": {
      "text/plain": [
       "['ain_Page',\n",
       " 'pecial:AllPages',\n",
       " 'pecial:Community',\n",
       " 'ategory:Books_(real-world)',\n",
       " 'arry_Potter_(book_series)',\n",
       " 'arry_Potter_and_the_Philosopher%27s_Stone',\n",
       " 'arry_Potter_and_the_Chamber_of_Secrets',\n",
       " 'arry_Potter_and_the_Prisoner_of_Azkaban',\n",
       " 'arry_Potter_and_the_Goblet_of_Fire',\n",
       " 'arry_Potter_and_the_Order_of_the_Phoenix',\n",
       " 'arry_Potter_and_the_Half-Blood_Prince',\n",
       " 'arry_Potter_and_the_Deathly_Hallows',\n",
       " 'ategory:Books_(real-world)',\n",
       " 'antastic_Beasts_and_Where_to_Find_Them_(real)',\n",
       " 'uidditch_Through_the_Ages_(real)',\n",
       " 'he_Tales_of_Beedle_the_Bard_(real)',\n",
       " 'arry_Potter_Prequel',\n",
       " 'ottermore',\n",
       " 'ategory:Books_(real-world)',\n",
       " 'arry_Potter:_A_Pop-Up_Book',\n",
       " 'arry_Potter_Film_Wizardry',\n",
       " 'arry_Potter_Page_to_Screen:_The_Complete_Filmmaking_Journey',\n",
       " 'EGO_Harry_Potter:_Building_the_Magical_World',\n",
       " 'EGO_Harry_Potter:_Characters_of_the_Magical_World',\n",
       " 'ategory:Individuals',\n",
       " 'arry_Potter',\n",
       " 'ermione_Granger',\n",
       " 'onald_Weasley',\n",
       " 'inevra_Weasley',\n",
       " 'lbus_Dumbledore',\n",
       " 'om_Riddle',\n",
       " 'eville_Longbottom',\n",
       " 'raco_Malfoy',\n",
       " 'everus_Snape',\n",
       " 'ubeus_Hagrid',\n",
       " 'ategory:Films_(real-world)',\n",
       " 'arry_Potter_(film_series)',\n",
       " 'arry_Potter_and_the_Philosopher%27s_Stone_(film)',\n",
       " 'arry_Potter_and_the_Chamber_of_Secrets_(film)',\n",
       " 'arry_Potter_and_the_Prisoner_of_Azkaban_(film)',\n",
       " 'arry_Potter_and_the_Goblet_of_Fire_(film)',\n",
       " 'arry_Potter_and_the_Order_of_the_Phoenix_(film)',\n",
       " 'arry_Potter_and_the_Half-Blood_Prince_(film)',\n",
       " 'arry_Potter_and_the_Deathly_Hallows:_Part_1',\n",
       " 'arry_Potter_and_the_Deathly_Hallows:_Part_2',\n",
       " 'antastic_Beasts_(film_series)',\n",
       " 'antastic_Beasts_and_Where_to_Find_Them_(film)',\n",
       " 'antastic_Beasts:_The_Crimes_of_Grindelwald',\n",
       " 'ategory:Films_(real-world)',\n",
       " 'arry_Potter_and_Me',\n",
       " 'he_Queen%27s_Handbag',\n",
       " '.K._Rowling:_A_Year_in_the_Life',\n",
       " 'agic_Beyond_Words:_The_J.K._Rowling_Story',\n",
       " 'ategory:Actors_(real-world)',\n",
       " 'aniel_Radcliffe',\n",
       " 'upert_Grint',\n",
       " 'mma_Watson',\n",
       " 'om_Felton',\n",
       " 'alph_Fiennes',\n",
       " 'lan_Rickman',\n",
       " 'aggie_Smith',\n",
       " 'ichael_Gambon',\n",
       " 'ategory:Directors_(real-world)',\n",
       " 'hris_Columbus',\n",
       " 'lfonso_Cuar%C3%B3n',\n",
       " 'ike_Newell',\n",
       " 'avid_Yates',\n",
       " 'ategory:Video_games_(real-world)',\n",
       " 'arry_Potter:_Hogwarts_Mystery',\n",
       " 'acob%27s_sibling',\n",
       " 'owan_Khanna',\n",
       " 'enny_Haywood',\n",
       " 'albott_Winger',\n",
       " 'hiara_Lobosca',\n",
       " 'atricia_Rakepick',\n",
       " 'ursed_Vaults',\n",
       " '',\n",
       " 'arry_Potter:_Wizards_Unite',\n",
       " 'onstance_Pickering',\n",
       " 'rim_Fawley',\n",
       " 'xploding_Charm',\n",
       " 'ire-Making_Spell',\n",
       " 'xstimulo_Potion',\n",
       " 'nvigoration_Potion',\n",
       " 'oundable',\n",
       " 'ortkey_Portmanteau',\n",
       " 'unestone',\n",
       " 'antastic_Beasts:_Cases_from_the_Wizarding_World',\n",
       " 'athilda_Grimblehawk',\n",
       " 'erberus_Langarm',\n",
       " 'mar_Abasi',\n",
       " 'age_Bragnam',\n",
       " 'ethsemane_Prickle',\n",
       " 'yra_Curio',\n",
       " 'arry_Potter:_Magic_Awakened',\n",
       " 'nidentified_Muggle-born_Hogwarts_student',\n",
       " 'aniel_Page',\n",
       " 'ottie_Turner',\n",
       " 'obyn_Thistlethwaite',\n",
       " 'assandra_Vole',\n",
       " 'vy_Warrington',\n",
       " 'olby_Frey',\n",
       " 'ogwarts_Legacy',\n",
       " '9th_century',\n",
       " 'nidentified_19th-century_Potions_professor',\n",
       " 'nidentified_19th-century_Herbology_professor',\n",
       " 'EGO_(real-world)',\n",
       " 'EGO_Creator:_Harry_Potter',\n",
       " 'reator:_Harry_Potter_and_the_Chamber_of_Secrets',\n",
       " 'EGO_Harry_Potter:_Years_1-4',\n",
       " 'EGO_Harry_Potter:_Years_5-7',\n",
       " 'EGO_Dimensions',\n",
       " 'ategory:Video_games_(real-world)',\n",
       " 'arry_Potter_and_the_Philosopher%27s_Stone_(video_game)',\n",
       " 'arry_Potter_and_the_Chamber_of_Secrets_(video_game)',\n",
       " 'arry_Potter_and_the_Prisoner_of_Azkaban_(video_game)',\n",
       " 'arry_Potter_and_the_Goblet_of_Fire_(video_game)',\n",
       " 'arry_Potter_and_the_Order_of_the_Phoenix_(video_game)',\n",
       " 'arry_Potter_and_the_Half-Blood_Prince_(video_game)',\n",
       " 'arry_Potter_and_the_Deathly_Hallows:_Part_1_(video_game)',\n",
       " 'arry_Potter_and_the_Deathly_Hallows:_Part_2_(video_game)',\n",
       " 'arry_Potter:_Quidditch_World_Cup',\n",
       " 'onderbook:_Book_of_Spells',\n",
       " 'arry_Potter_Wiki:Community_portal',\n",
       " 'orum:Harry_Potter_Wiki_Forums',\n",
       " 'arry_Potter_Wiki:Policy',\n",
       " 'arry_Potter_Wiki:Administrators',\n",
       " 'elp:Editing',\n",
       " 'arry_Potter_Wiki:Sandbox',\n",
       " 'pecial:RecentChanges']"
      ]
     },
     "execution_count": 18,
     "metadata": {},
     "output_type": "execute_result"
    }
   ],
   "source": [
    "# create a filter for undesired links\n",
    "filter  = '(%s)' % '|'.join([\n",
    "    'Category:',\n",
    "    'File:',\n",
    "    'Help:',\n",
    "    'Memory_Alpha:',\n",
    "    'Portal:',\n",
    "    'action=',\n",
    "    'Special:',\n",
    "    'Star_Trek:',\n",
    "    'Star_Trek_',\n",
    "    'Talk:'\n",
    "])\n",
    "# remove the links that are found in the filter\n",
    "tag_list = [t for t in tag_list if not re.search(filter, t)]\n",
    "tag_list"
   ]
  },
  {
   "cell_type": "markdown",
   "metadata": {
    "colab_type": "text",
    "id": "RERADKgNFq9T"
   },
   "source": [
    "\n",
    "\n",
    "---\n",
    "\n",
    "\n",
    "\n",
    "---\n",
    "\n",
    "\n",
    "\n",
    "> > > > > > > > > © 2021 Institute of Data\n",
    "\n",
    "\n",
    "---\n",
    "\n",
    "\n",
    "\n",
    "---\n",
    "\n",
    "\n",
    "\n"
   ]
  }
 ],
 "metadata": {
  "colab": {
   "collapsed_sections": [],
   "name": "DSIA Lab-9_2.ipynb",
   "provenance": []
  },
  "kernelspec": {
   "display_name": "Python 3 (ipykernel)",
   "language": "python",
   "name": "python3"
  },
  "language_info": {
   "codemirror_mode": {
    "name": "ipython",
    "version": 3
   },
   "file_extension": ".py",
   "mimetype": "text/x-python",
   "name": "python",
   "nbconvert_exporter": "python",
   "pygments_lexer": "ipython3",
   "version": "3.9.7"
  }
 },
 "nbformat": 4,
 "nbformat_minor": 4
}
