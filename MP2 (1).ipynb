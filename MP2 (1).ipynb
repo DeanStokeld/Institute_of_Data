{
 "cells": [
  {
   "cell_type": "code",
   "execution_count": null,
   "id": "515b5ea3",
   "metadata": {},
   "outputs": [],
   "source": [
    "import numpy as np\n",
    "import pandas as pd\n",
    "import matplotlib.pyplot as plt\n",
    "import seaborn as sns\n",
    "from sklearn.multiclass import OneVsRestClassifier"
   ]
  },
  {
   "cell_type": "code",
   "execution_count": null,
   "id": "766a4c96",
   "metadata": {
    "scrolled": false
   },
   "outputs": [],
   "source": [
    "data = pd.read_csv(\"train.csv\")"
   ]
  },
  {
   "cell_type": "code",
   "execution_count": null,
   "id": "a15d68d1",
   "metadata": {},
   "outputs": [],
   "source": [
    "data.head(50)"
   ]
  },
  {
   "cell_type": "code",
   "execution_count": null,
   "id": "afab174c",
   "metadata": {},
   "outputs": [],
   "source": [
    "data.shape"
   ]
  },
  {
   "cell_type": "code",
   "execution_count": null,
   "id": "fb933071",
   "metadata": {},
   "outputs": [],
   "source": [
    "data.info()"
   ]
  },
  {
   "cell_type": "code",
   "execution_count": null,
   "id": "09e4eadb",
   "metadata": {},
   "outputs": [],
   "source": [
    "data.isnull().sum()"
   ]
  },
  {
   "cell_type": "code",
   "execution_count": null,
   "id": "de2f221e",
   "metadata": {},
   "outputs": [],
   "source": [
    "data.duplicated().any()"
   ]
  },
  {
   "cell_type": "code",
   "execution_count": null,
   "id": "81efc6b4",
   "metadata": {},
   "outputs": [],
   "source": [
    "data['price_range'].value_counts()"
   ]
  },
  {
   "cell_type": "code",
   "execution_count": null,
   "id": "1a4faf50",
   "metadata": {},
   "outputs": [],
   "source": [
    "fig, axes = plt.subplots(2, 3, figsize=(18, 10))\n",
    "fig.suptitle('Price Range vs all numerical factor')\n",
    "sns.countplot(ax=axes[0, 0], data=data, x='three_g',palette='GnBu_r')\n",
    "sns.countplot(ax=axes[0, 1], data=data, x='touch_screen',palette='GnBu_r')\n",
    "sns.countplot(ax=axes[0, 2], data=data, x='four_g',palette='GnBu_r')\n",
    "sns.countplot(ax=axes[1, 0], data=data, x='wifi',palette='GnBu_r')\n",
    "sns.countplot(ax=axes[1,1],data = data, x ='fc' ,palette='GnBu_r')\n",
    "sns.countplot(ax=axes[1,2],data = data, x ='dual_sim',palette='GnBu_r' )\n",
    "plt.show()"
   ]
  },
  {
   "cell_type": "code",
   "execution_count": null,
   "id": "f157171c",
   "metadata": {},
   "outputs": [],
   "source": [
    "fig, axes = plt.subplots(3, 2, figsize=(18, 10))\n",
    "\n",
    "fig.suptitle('Price Range vs all numerical factor')\n",
    "\n",
    "sns.boxplot(ax=axes[0, 0], data=data, x='price_range', y='battery_power', palette = \"GnBu_r\")\n",
    "sns.boxplot(ax=axes[0, 1], data=data, x='price_range', y='ram', palette = \"GnBu_r\")\n",
    "sns.boxplot(ax=axes[1, 0], data=data, x='price_range', y='px_width', palette = \"GnBu_r\")\n",
    "sns.boxplot(ax=axes[1, 1], data=data, x='price_range', y='px_height', palette = \"GnBu_r\")\n",
    "sns.boxplot(ax=axes[2, 0], data=data, x='price_range', y='mobile_wt', palette = \"GnBu_r\")\n",
    "sns.boxplot(ax=axes[2, 1], data=data, x='price_range', y='int_memory', palette = \"GnBu_r\")\n",
    "plt.show()"
   ]
  },
  {
   "cell_type": "code",
   "execution_count": null,
   "id": "9a78a71b",
   "metadata": {},
   "outputs": [],
   "source": [
    "x = data.drop('price_range',axis=1) # x variable stores the independent variables.\n",
    "y = data['price_range'] #y store the dependent variable."
   ]
  },
  {
   "cell_type": "code",
   "execution_count": null,
   "id": "1b0ce5d8",
   "metadata": {},
   "outputs": [],
   "source": [
    "from sklearn.feature_selection import SelectKBest\n",
    "from sklearn.feature_selection import chi2\n",
    "ordered_rank_features = SelectKBest(score_func=chi2,k=7)\n",
    "ordered_feature = ordered_rank_features.fit(x,y)\n",
    "dfscores = pd.DataFrame(ordered_feature.scores_,columns=[\"Score\"])\n",
    "dfcolumns = pd.DataFrame(x.columns)\n",
    "features_rank=pd.concat([dfcolumns,dfscores],axis=1)\n",
    "features_rank.columns=['Features','Score']\n",
    "features_rank"
   ]
  },
  {
   "cell_type": "code",
   "execution_count": null,
   "id": "79f56216",
   "metadata": {},
   "outputs": [],
   "source": [
    "features_rank.nlargest(10,'Score')"
   ]
  },
  {
   "cell_type": "code",
   "execution_count": null,
   "id": "2312a0ed",
   "metadata": {},
   "outputs": [],
   "source": [
    "from sklearn.ensemble import ExtraTreesClassifier\n",
    "import matplotlib.pyplot as plt\n",
    "model=ExtraTreesClassifier()\n",
    "model.fit(x,y)"
   ]
  },
  {
   "cell_type": "code",
   "execution_count": null,
   "id": "cef35389",
   "metadata": {},
   "outputs": [],
   "source": [
    "print(model.feature_importances_)"
   ]
  },
  {
   "cell_type": "code",
   "execution_count": null,
   "id": "527e1dcb",
   "metadata": {},
   "outputs": [],
   "source": [
    "ranked_features=pd.Series(model.feature_importances_,index=x.columns)\n",
    "ranked_features.nlargest(10).plot(kind='barh')\n",
    "plt.show()"
   ]
  },
  {
   "cell_type": "code",
   "execution_count": null,
   "id": "f6d93f36",
   "metadata": {},
   "outputs": [],
   "source": [
    "from sklearn.feature_selection import mutual_info_classif\n",
    "mutual_info=mutual_info_classif(x,y)\n",
    "mutual_data=pd.Series(mutual_info,index=x.columns)\n",
    "mutual_data.sort_values(ascending=False)"
   ]
  },
  {
   "cell_type": "code",
   "execution_count": null,
   "id": "ef28bd70",
   "metadata": {},
   "outputs": [],
   "source": [
    "data = data.drop(['wifi','touch_screen','three_g','talk_time','sc_w','dual_sim','four_g','int_memory','blue','n_cores','mobile_wt','m_dep','fc'],axis=1)"
   ]
  },
  {
   "cell_type": "code",
   "execution_count": null,
   "id": "cec700a7",
   "metadata": {},
   "outputs": [],
   "source": [
    "data.head()"
   ]
  },
  {
   "cell_type": "code",
   "execution_count": null,
   "id": "5abf0dc3",
   "metadata": {},
   "outputs": [],
   "source": [
    "x = data.drop('price_range',axis=1)\n",
    "y = data['price_range']"
   ]
  },
  {
   "cell_type": "code",
   "execution_count": null,
   "id": "51a474d1",
   "metadata": {},
   "outputs": [],
   "source": [
    "print(x.shape)\n",
    "print(y.shape)"
   ]
  },
  {
   "cell_type": "code",
   "execution_count": null,
   "id": "b45a599a",
   "metadata": {},
   "outputs": [],
   "source": [
    "from sklearn.model_selection import train_test_split\n",
    "X_train, X_test, y_train, y_test = train_test_split(x, y, test_size = 0.25, random_state = 42)"
   ]
  },
  {
   "cell_type": "code",
   "execution_count": null,
   "id": "06d3a48b",
   "metadata": {},
   "outputs": [],
   "source": [
    "print(X_train.shape)\n",
    "print(X_test.shape)\n",
    "print(y_train.shape)\n",
    "print(y_test.shape)"
   ]
  },
  {
   "cell_type": "code",
   "execution_count": null,
   "id": "0a7c35e9",
   "metadata": {},
   "outputs": [],
   "source": [
    "from sklearn.preprocessing import StandardScaler\n",
    "sc = StandardScaler()\n",
    "X_train = sc.fit_transform(X_train)\n",
    "X_test = sc.transform(X_test)"
   ]
  },
  {
   "cell_type": "code",
   "execution_count": null,
   "id": "9985467b",
   "metadata": {},
   "outputs": [],
   "source": [
    "X_train"
   ]
  },
  {
   "cell_type": "code",
   "execution_count": null,
   "id": "8da48c74",
   "metadata": {},
   "outputs": [],
   "source": [
    "from sklearn.linear_model import LogisticRegression\n",
    "logreg = LogisticRegression(random_state = 42)\n",
    "logreg.fit(X_train, y_train)"
   ]
  },
  {
   "cell_type": "code",
   "execution_count": null,
   "id": "9b9f5309",
   "metadata": {},
   "outputs": [],
   "source": [
    "y_pred = logreg.predict(X_test)\n",
    "lr_probs = logreg.predict_proba(X_test)"
   ]
  },
  {
   "cell_type": "code",
   "execution_count": null,
   "id": "a6209a4f",
   "metadata": {},
   "outputs": [],
   "source": [
    "print(y_pred)"
   ]
  },
  {
   "cell_type": "code",
   "execution_count": null,
   "id": "a8b4f337",
   "metadata": {},
   "outputs": [],
   "source": [
    "from sklearn.metrics import accuracy_score\n",
    "acc1 = accuracy_score(y_test, y_pred)"
   ]
  },
  {
   "cell_type": "code",
   "execution_count": null,
   "id": "74903a1e",
   "metadata": {},
   "outputs": [],
   "source": [
    "from sklearn.metrics import classification_report\n",
    "from sklearn.model_selection import train_test_split\n",
    "from sklearn.linear_model import LogisticRegressionCV, LogisticRegression"
   ]
  },
  {
   "cell_type": "code",
   "execution_count": null,
   "id": "716263c3",
   "metadata": {
    "scrolled": true
   },
   "outputs": [],
   "source": []
  },
  {
   "cell_type": "code",
   "execution_count": null,
   "id": "7d6f7e3d",
   "metadata": {},
   "outputs": [],
   "source": [
    "from sklearn.svm import SVC\n",
    "svc = SVC(kernel = 'linear', random_state = 42, probability=True)\n",
    "svc.fit(X_train, y_train)"
   ]
  },
  {
   "cell_type": "code",
   "execution_count": null,
   "id": "b93f875d",
   "metadata": {},
   "outputs": [],
   "source": [
    "y_pred = svc.predict(X_test)\n",
    "svc_probs = svc.predict_proba(X_test)"
   ]
  },
  {
   "cell_type": "code",
   "execution_count": null,
   "id": "e9b6ecdc",
   "metadata": {},
   "outputs": [],
   "source": [
    "from sklearn.metrics import confusion_matrix, accuracy_score\n",
    "cm = confusion_matrix(y_test, y_pred)\n",
    "print(cm)\n",
    "acc2 = accuracy_score(y_test, y_pred)"
   ]
  },
  {
   "cell_type": "code",
   "execution_count": null,
   "id": "6b5b8f17",
   "metadata": {},
   "outputs": [],
   "source": [
    "print(classification_report(y_test, y_pred))"
   ]
  },
  {
   "cell_type": "code",
   "execution_count": null,
   "id": "be55231e",
   "metadata": {},
   "outputs": [],
   "source": [
    "from sklearn.neighbors import KNeighborsClassifier\n",
    "KN = KNeighborsClassifier(n_neighbors = 5, metric = 'minkowski', p = 2)\n",
    "KN.fit(X_train, y_train)"
   ]
  },
  {
   "cell_type": "code",
   "execution_count": null,
   "id": "e5280200",
   "metadata": {},
   "outputs": [],
   "source": [
    "from sklearn.metrics import  accuracy_score\n",
    "acc3 = accuracy_score(y_test, y_pred)\n",
    "y_pred = KN.predict(X_test)\n",
    "KN_probs = KN.predict_proba(X_test)"
   ]
  },
  {
   "cell_type": "code",
   "execution_count": null,
   "id": "c42b79fc",
   "metadata": {},
   "outputs": [],
   "source": [
    "print(classification_report(y_test, y_pred))"
   ]
  },
  {
   "cell_type": "code",
   "execution_count": null,
   "id": "c49e64c6",
   "metadata": {},
   "outputs": [],
   "source": [
    "from sklearn.ensemble import RandomForestClassifier\n",
    "from sklearn.datasets import make_classification\n",
    "from sklearn import metrics\n",
    "RF = RandomForestClassifier(max_depth=2, random_state=42)\n",
    "RF.fit(X_train, y_train)"
   ]
  },
  {
   "cell_type": "code",
   "execution_count": null,
   "id": "b32a39f3",
   "metadata": {
    "scrolled": false
   },
   "outputs": [],
   "source": [
    "acc6 = accuracy_score(y_test, y_pred)\n",
    "RF_probs = RF.predict_proba(X_test)"
   ]
  },
  {
   "cell_type": "code",
   "execution_count": null,
   "id": "55f42f8f",
   "metadata": {},
   "outputs": [],
   "source": [
    "from sklearn.metrics import classification_report\n",
    "from sklearn.model_selection import train_test_split\n",
    "from sklearn.linear_model import LogisticRegressionCV, LogisticRegression\n",
    "print(classification_report(y_test, y_pred))"
   ]
  },
  {
   "cell_type": "code",
   "execution_count": null,
   "id": "58db5305",
   "metadata": {},
   "outputs": [],
   "source": [
    "from sklearn.naive_bayes import GaussianNB\n",
    "NB = GaussianNB()\n",
    "NB.fit(X_train, y_train)"
   ]
  },
  {
   "cell_type": "code",
   "execution_count": null,
   "id": "edec751b",
   "metadata": {},
   "outputs": [],
   "source": [
    "y_pred = NB.predict(X_test)\n",
    "NB_probs = NB.predict_proba(X_test)"
   ]
  },
  {
   "cell_type": "code",
   "execution_count": null,
   "id": "26a86a92",
   "metadata": {},
   "outputs": [],
   "source": [
    "from sklearn.metrics import  accuracy_score\n",
    "acc4 = accuracy_score(y_test, y_pred)"
   ]
  },
  {
   "cell_type": "code",
   "execution_count": null,
   "id": "4ddc61fa",
   "metadata": {},
   "outputs": [],
   "source": [
    "print(classification_report(y_test, y_pred))"
   ]
  },
  {
   "cell_type": "code",
   "execution_count": null,
   "id": "719ea864",
   "metadata": {},
   "outputs": [],
   "source": [
    "from sklearn.tree import DecisionTreeClassifier\n",
    "DT = DecisionTreeClassifier(criterion = 'entropy', random_state = 42)\n",
    "DT.fit(X_train, y_train)"
   ]
  },
  {
   "cell_type": "code",
   "execution_count": null,
   "id": "a1ce5032",
   "metadata": {},
   "outputs": [],
   "source": [
    "y_pred = DT.predict(X_test)\n",
    "DT_probs = DT.predict_proba(X_test)"
   ]
  },
  {
   "cell_type": "code",
   "execution_count": null,
   "id": "cf950fa9",
   "metadata": {},
   "outputs": [],
   "source": [
    "from sklearn.metrics import  accuracy_score\n",
    "acc5 = accuracy_score(y_test, y_pred)"
   ]
  },
  {
   "cell_type": "code",
   "execution_count": null,
   "id": "3f093c31",
   "metadata": {},
   "outputs": [],
   "source": [
    "print(classification_report(y_test, y_pred))"
   ]
  },
  {
   "cell_type": "code",
   "execution_count": null,
   "id": "699b027a",
   "metadata": {},
   "outputs": [],
   "source": [
    "mylist=[]\n",
    "mylist2=[]\n",
    "mylist.append(acc1)\n",
    "mylist2.append(\"Logistic Regression\")\n",
    "mylist.append(acc2)\n",
    "mylist2.append(\"SVM\")\n",
    "mylist.append(acc3)\n",
    "mylist2.append(\"KNN\")\n",
    "mylist.append(acc4)\n",
    "mylist2.append(\"Naive Bayes\")\n",
    "mylist.append(acc5)\n",
    "mylist2.append(\"DTR\")\n",
    "mylist.append(acc6)\n",
    "mylist2.append(\"Random Forest\")"
   ]
  },
  {
   "cell_type": "code",
   "execution_count": null,
   "id": "af5e5389",
   "metadata": {},
   "outputs": [],
   "source": [
    "plt.rcParams['figure.figsize']=8,6\n",
    "sns.set_style(\"darkgrid\")\n",
    "ax = sns.barplot(x=mylist2, y=mylist, palette = \"rocket\", saturation =1.5)\n",
    "plt.xlabel(\"Classification Models\", fontsize = 20 )\n",
    "plt.ylabel(\"Accuracy\", fontsize = 20)\n",
    "plt.title(\"Accuracy of different Classification Models\", fontsize = 20)\n",
    "plt.xticks(fontsize = 11, horizontalalignment = 'center', rotation = 8)\n",
    "plt.yticks(fontsize = 13)\n",
    "for p in ax.patches:\n",
    "    width, height = p.get_width(), p.get_height()\n",
    "    x, y = p.get_xy() \n",
    "    ax.annotate(f'{height:.2%}', (x + width/2, y + height*1.02), ha='center', fontsize = 'x-large')\n",
    "plt.show()"
   ]
  },
  {
   "cell_type": "code",
   "execution_count": null,
   "id": "6dc1932c",
   "metadata": {},
   "outputs": [],
   "source": [
    "DT_probs = DT_probs[:, 1]\n",
    "NB_probs = NB_probs[:, 1]\n",
    "RF_probs = RF_probs[:, 1]\n",
    "KN_probs = KN_probs[:, 1]\n",
    "svc_probs = svc_probs[:, 1]\n",
    "lr_probs = lr_probs[:, 1]"
   ]
  },
  {
   "cell_type": "code",
   "execution_count": null,
   "id": "e19cc37f",
   "metadata": {},
   "outputs": [],
   "source": [
    "from sklearn.metrics import roc_curve, roc_auc_score"
   ]
  },
  {
   "cell_type": "code",
   "execution_count": null,
   "id": "6c2860a9",
   "metadata": {},
   "outputs": [],
   "source": [
    "DT_auc = roc_auc_score(y_test, DT_probs, multi_class='ovr')\n",
    "NB_auc = roc_auc_score(y_test, NB_probs, multi_class='ovr')\n",
    "RF_auc = roc_auc_score(y_test, RF_probs, multi_class='ovr')\n",
    "KN_auc = roc_auc_score(y_test, KN_probs, multi_class='ovr')\n",
    "svc_auc = roc_auc_score(y_test, svc_probs, multi_class='ovr')\n",
    "lr_auc = roc_auc_score(y_test, lr_probs, multi_class='ovr')"
   ]
  },
  {
   "cell_type": "code",
   "execution_count": null,
   "id": "5d0ed8bd",
   "metadata": {},
   "outputs": [],
   "source": [
    "pip install -U yellowbrick"
   ]
  },
  {
   "cell_type": "code",
   "execution_count": null,
   "id": "a5cddf76",
   "metadata": {},
   "outputs": [],
   "source": [
    "from yellowbrick.classifier import ROCAUC\n",
    "from sklearn.linear_model import RidgeClassifier\n",
    "model = LogisticRegression(multi_class=\"auto\", solver=\"liblinear\")\n",
    "visualizer = ROCAUC(model, classes=['0','1','2','3'])\n",
    "visualizer.fit(X_train, y_train)        # Fit the training data to the visualizer\n",
    "visualizer.score(X_test, y_test)        # Evaluate the model on the test data\n",
    "visualizer.show()"
   ]
  },
  {
   "cell_type": "code",
   "execution_count": null,
   "id": "9b40b3d4",
   "metadata": {
    "scrolled": true
   },
   "outputs": [],
   "source": [
    "model2 = SVC(kernel = 'linear', random_state = 42, probability=True)\n",
    "visualizer = ROCAUC(model, classes=['0','1','2','3'])\n",
    "visualizer.fit(X_train, y_train)        # Fit the training data to the visualizer\n",
    "visualizer.score(X_test, y_test)        # Evaluate the model on the test data\n",
    "visualizer.show()"
   ]
  }
 ],
 "metadata": {
  "kernelspec": {
   "display_name": "Python 3 (ipykernel)",
   "language": "python",
   "name": "python3"
  },
  "language_info": {
   "codemirror_mode": {
    "name": "ipython",
    "version": 3
   },
   "file_extension": ".py",
   "mimetype": "text/x-python",
   "name": "python",
   "nbconvert_exporter": "python",
   "pygments_lexer": "ipython3",
   "version": "3.9.7"
  }
 },
 "nbformat": 4,
 "nbformat_minor": 5
}
