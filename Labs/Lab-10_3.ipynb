{
 "cells": [
  {
   "cell_type": "markdown",
   "metadata": {
    "colab_type": "text",
    "id": "A779OtXhX2M_"
   },
   "source": [
    "<div>\n",
    "<img src=https://www.institutedata.com/wp-content/uploads/2019/10/iod_h_tp_primary_c.svg width=\"300\">\n",
    "</div>"
   ]
  },
  {
   "cell_type": "markdown",
   "metadata": {
    "colab_type": "text",
    "id": "jqAIP5YHX2NB"
   },
   "source": [
    "# Lab 10.3 - Using AWS for cluster computing"
   ]
  },
  {
   "cell_type": "markdown",
   "metadata": {
    "colab_type": "text",
    "id": "KGCWleRIX2NE"
   },
   "source": [
    "### Introduction\n",
    "\n",
    "The purpose of this lab is to gain exposure to cluster computing, often necessary when datasets become too large to manage on a local machine. You will learn how to work with a large dataset through AWS - in particular using an EMR cluster and the PySpark Python library.\n",
    "\n",
    "Note that this notebook will need to be loaded into an AWS SageMaker instance in order for the code to run succesfully. It will not work on your laptop.\n",
    "\n",
    "**Important**: To prevent excessive billing costs, you will need to shut down your instances when you finish working on AWS for the day - see instructions at the bottom of this page. Please give yourself 10 minutes at the end of the day for this. \n",
    "\n",
    "After you have logged into the AWS console you will be able to see the billing cost explorer at https://console.aws.amazon.com/billing/home?/costexplorer#/costexplorer\n"
   ]
  },
  {
   "cell_type": "markdown",
   "metadata": {},
   "source": [
    "### 1. Connecting to AWS via AWS Educate"
   ]
  },
  {
   "cell_type": "markdown",
   "metadata": {},
   "source": [
    "Sign into the AWS console as done in Lab 10.1:"
   ]
  },
  {
   "cell_type": "markdown",
   "metadata": {},
   "source": [
    "a) Sign in to https://www.awseducate.com/signin/SiteLogin and navigate to the \"Classrooms & Credits\" tab, then \"Request or go to an AWS Educate Classroom\"."
   ]
  },
  {
   "cell_type": "markdown",
   "metadata": {},
   "source": [
    "b) Select \"My classrooms\" and then the \"Go to classroom\" link that appears under \"Courses where I am a Student\"."
   ]
  },
  {
   "cell_type": "markdown",
   "metadata": {},
   "source": [
    "c) You will be redirected to a https://labs.vocareum.com page. Click \"AWS Console\" and you will be directed to your AWS console."
   ]
  },
  {
   "cell_type": "markdown",
   "metadata": {},
   "source": [
    "### 2. Setting up a SageMaker instance connected to an EMR cluster"
   ]
  },
  {
   "cell_type": "markdown",
   "metadata": {},
   "source": [
    "Follow the instructions in the link below to create a SageMaker notebook instance linked to a Spark  Elastic Map Reduce (EMR) cluster. This involves configuring some security groups to allow SageMaker to communicate with the cluster. Finally the notebook is connected to Spark by using Livy, a REST API for interacting with Spark.\n",
    "\n",
    "https://aws.amazon.com/blogs/machine-learning/build-amazon-sagemaker-notebooks-backed-by-spark-in-amazon-emr/\n",
    "\n",
    "**Optional**: To use up fewer credits, use a cheaper instance in EMR than the `m5.xlarge` default given. One possibility is using `m4.large` instead (but it will be slower to run). A full list of instances and pricing is given at https://aws.amazon.com/emr/pricing/.\n",
    "\n",
    "While working through this setup it will be convenient to have a text editor (e.g Notepad) open to make note of the following details about the cluster that will be needed when setting up SageMaker. Have separate browser tabs open for the EMR cluster console and for SageMaker.\n",
    "\n",
    "- Private IP Address: e.g. `172.31.46.73` \n",
    "- VPC name: `vpc-..... (<ip address>)`\n",
    "- EC2 Subnet: `subnet-..... default in us-...`\n",
    "- EMR master's security group: `sg-... (ElasticMapReduce-master)`"
   ]
  },
  {
   "cell_type": "markdown",
   "metadata": {},
   "source": [
    "### 3. Setting up a Spark session"
   ]
  },
  {
   "cell_type": "markdown",
   "metadata": {},
   "source": [
    "Upload this notebook into your SageMaker instance setting the kernel to `sparkmagic` where requested and then run the cell below. You will be able to proceed if there is no error."
   ]
  },
  {
   "cell_type": "code",
   "execution_count": 1,
   "metadata": {},
   "outputs": [
    {
     "data": {
      "text/html": [
       "Current session configs: <tt>{'driverMemory': '1000M', 'executorCores': 2, 'kind': 'pyspark'}</tt><br>"
      ],
      "text/plain": [
       "<IPython.core.display.HTML object>"
      ]
     },
     "metadata": {},
     "output_type": "display_data"
    },
    {
     "data": {
      "text/html": [
       "No active sessions."
      ],
      "text/plain": [
       "<IPython.core.display.HTML object>"
      ]
     },
     "metadata": {},
     "output_type": "display_data"
    }
   ],
   "source": [
    "%%info"
   ]
  },
  {
   "cell_type": "code",
   "execution_count": 2,
   "metadata": {},
   "outputs": [
    {
     "name": "stdout",
     "output_type": "stream",
     "text": [
      "Starting Spark application\n"
     ]
    },
    {
     "data": {
      "text/html": [
       "<table>\n",
       "<tr><th>ID</th><th>YARN Application ID</th><th>Kind</th><th>State</th><th>Spark UI</th><th>Driver log</th><th>User</th><th>Current session?</th></tr><tr><td>1</td><td>application_1613274019988_0002</td><td>pyspark</td><td>idle</td><td><a target=\"_blank\" href=\"http://ip-172-31-46-73.ec2.internal:20888/proxy/application_1613274019988_0002/\">Link</a></td><td><a target=\"_blank\" href=\"http://ip-172-31-34-43.ec2.internal:8042/node/containerlogs/container_1613274019988_0002_01_000001/livy\">Link</a></td><td>None</td><td>✔</td></tr></table>"
      ],
      "text/plain": [
       "<IPython.core.display.HTML object>"
      ]
     },
     "metadata": {},
     "output_type": "display_data"
    },
    {
     "data": {
      "application/vnd.jupyter.widget-view+json": {
       "model_id": "",
       "version_major": 2,
       "version_minor": 0
      },
      "text/plain": [
       "FloatProgress(value=0.0, bar_style='info', description='Progress:', layout=Layout(height='25px', width='50%'),…"
      ]
     },
     "metadata": {},
     "output_type": "display_data"
    },
    {
     "name": "stdout",
     "output_type": "stream",
     "text": [
      "SparkSession available as 'spark'.\n"
     ]
    },
    {
     "data": {
      "application/vnd.jupyter.widget-view+json": {
       "model_id": "",
       "version_major": 2,
       "version_minor": 0
      },
      "text/plain": [
       "FloatProgress(value=0.0, bar_style='info', description='Progress:', layout=Layout(height='25px', width='50%'),…"
      ]
     },
     "metadata": {},
     "output_type": "display_data"
    }
   ],
   "source": [
    "from pyspark.sql import SparkSession"
   ]
  },
  {
   "cell_type": "markdown",
   "metadata": {},
   "source": [
    "The SparkSession class allows one to create a Spark DataFrame."
   ]
  },
  {
   "cell_type": "code",
   "execution_count": 3,
   "metadata": {},
   "outputs": [
    {
     "data": {
      "application/vnd.jupyter.widget-view+json": {
       "model_id": "",
       "version_major": 2,
       "version_minor": 0
      },
      "text/plain": [
       "FloatProgress(value=0.0, bar_style='info', description='Progress:', layout=Layout(height='25px', width='50%'),…"
      ]
     },
     "metadata": {},
     "output_type": "display_data"
    }
   ],
   "source": [
    "spark = SparkSession.builder.appName(\"Temperature Analysis\").getOrCreate()"
   ]
  },
  {
   "cell_type": "markdown",
   "metadata": {},
   "source": [
    "### 4. Working with a large dataset"
   ]
  },
  {
   "cell_type": "markdown",
   "metadata": {},
   "source": [
    "We will work with a public dataset from the Registry of Open Data on AWS. GSOD (Global Surface Summary of the Day) contains daily weather measurements from over 9000 weather stations dating back to 1901 (with more complete data since the 1970s). It is located in s3 at s3://aws-gsod. More details about the data can be found at https://aws.amazon.com/public-datasets/gsod/"
   ]
  },
  {
   "cell_type": "markdown",
   "metadata": {},
   "source": [
    "Note that some of the cells to be run below start with %%local. This means those cells are run locally (on the SageMaker instance) rather than on the cluster."
   ]
  },
  {
   "cell_type": "code",
   "execution_count": 4,
   "metadata": {},
   "outputs": [
    {
     "data": {
      "text/html": [
       "\n",
       "<table>\n",
       "  <tr>\n",
       "    <th>Magic</th>\n",
       "    <th>Example</th>\n",
       "    <th>Explanation</th>\n",
       "  </tr>\n",
       "  <tr>\n",
       "    <td>info</td>\n",
       "    <td>%%info</td>\n",
       "    <td>Outputs session information for the current Livy endpoint.</td>\n",
       "  </tr>\n",
       "  <tr>\n",
       "    <td>cleanup</td>\n",
       "    <td>%%cleanup -f</td>\n",
       "    <td>Deletes all sessions for the current Livy endpoint, including this notebook's session. The force flag is mandatory.</td>\n",
       "  </tr>\n",
       "  <tr>\n",
       "    <td>delete</td>\n",
       "    <td>%%delete -f -s 0</td>\n",
       "    <td>Deletes a session by number for the current Livy endpoint. Cannot delete this kernel's session.</td>\n",
       "  </tr>\n",
       "  <tr>\n",
       "    <td>logs</td>\n",
       "    <td>%%logs</td>\n",
       "    <td>Outputs the current session's Livy logs.</td>\n",
       "  </tr>\n",
       "  <tr>\n",
       "    <td>configure</td>\n",
       "    <td>%%configure -f<br/>{\"executorMemory\": \"1000M\", \"executorCores\": 4}</td>\n",
       "    <td>Configure the session creation parameters. The force flag is mandatory if a session has already been\n",
       "    created and the session will be dropped and recreated.<br/>Look at <a href=\"https://github.com/cloudera/livy#request-body\">\n",
       "    Livy's POST /sessions Request Body</a> for a list of valid parameters. Parameters must be passed in as a JSON string.</td>\n",
       "  </tr>\n",
       "  <tr>\n",
       "    <td>spark</td>\n",
       "    <td>%%spark -o df<br/>df = spark.read.parquet('...</td>\n",
       "    <td>Executes spark commands.\n",
       "    Parameters:\n",
       "      <ul>\n",
       "        <li>-o VAR_NAME: The Spark dataframe of name VAR_NAME will be available in the %%local Python context as a\n",
       "          <a href=\"http://pandas.pydata.org/\">Pandas</a> dataframe with the same name.</li>\n",
       "        <li>-m METHOD: Sample method, either <tt>take</tt> or <tt>sample</tt>.</li>\n",
       "        <li>-n MAXROWS: The maximum number of rows of a dataframe that will be pulled from Livy to Jupyter.\n",
       "            If this number is negative, then the number of rows will be unlimited.</li>\n",
       "        <li>-r FRACTION: Fraction used for sampling.</li>\n",
       "      </ul>\n",
       "    </td>\n",
       "  </tr>\n",
       "  <tr>\n",
       "    <td>sql</td>\n",
       "    <td>%%sql -o tables -q<br/>SHOW TABLES</td>\n",
       "    <td>Executes a SQL query against the variable sqlContext (Spark v1.x) or spark (Spark v2.x).\n",
       "    Parameters:\n",
       "      <ul>\n",
       "        <li>-o VAR_NAME: The result of the SQL query will be available in the %%local Python context as a\n",
       "          <a href=\"http://pandas.pydata.org/\">Pandas</a> dataframe.</li>\n",
       "        <li>-q: The magic will return None instead of the dataframe (no visualization).</li>\n",
       "        <li>-m, -n, -r are the same as the %%spark parameters above.</li>\n",
       "      </ul>\n",
       "    </td>\n",
       "  </tr>\n",
       "  <tr>\n",
       "    <td>local</td>\n",
       "    <td>%%local<br/>a = 1</td>\n",
       "    <td>All the code in subsequent lines will be executed locally. Code must be valid Python code.</td>\n",
       "  </tr>\n",
       "  <tr>\n",
       "    <td>send_to_spark</td>\n",
       "    <td>%%send_to_spark -i variable -t str -n var</td>\n",
       "    <td>Sends a variable from local output to spark cluster.\n",
       "    <br/>\n",
       "    Parameters:\n",
       "      <ul>\n",
       "        <li>-i VAR_NAME: Local Pandas DataFrame(or String) of name VAR_NAME will be available in the %%spark context as a \n",
       "          Spark dataframe(or String) with the same name.</li>\n",
       "        <li>-t TYPE: Specifies the type of variable passed as -i. Available options are:\n",
       "         `str` for string and `df` for Pandas DataFrame. Optional, defaults to `str`.</li>\n",
       "        <li>-n NAME: Custom name of variable passed as -i. Optional, defaults to -i variable name.</li>\n",
       "        <li>-m MAXROWS: Maximum amount of Pandas rows that will be sent to Spark. Defaults to 2500.</li>\n",
       "      </ul>\n",
       "    </td>\n",
       "  </tr>\n",
       "</table>\n"
      ],
      "text/plain": [
       "<IPython.core.display.HTML object>"
      ]
     },
     "metadata": {},
     "output_type": "display_data"
    }
   ],
   "source": [
    "%%help"
   ]
  },
  {
   "cell_type": "markdown",
   "metadata": {},
   "source": [
    "Let us read in the data from all weather stations for the year 2000. Here programming will primarily use the PySpark library."
   ]
  },
  {
   "cell_type": "code",
   "execution_count": 5,
   "metadata": {},
   "outputs": [
    {
     "data": {
      "application/vnd.jupyter.widget-view+json": {
       "model_id": "",
       "version_major": 2,
       "version_minor": 0
      },
      "text/plain": [
       "FloatProgress(value=0.0, bar_style='info', description='Progress:', layout=Layout(height='25px', width='50%'),…"
      ]
     },
     "metadata": {},
     "output_type": "display_data"
    }
   ],
   "source": [
    "weatherdata2000 = spark.read.option(\"header\", \"true\").csv('s3://aws-gsod/2000/*.csv')"
   ]
  },
  {
   "cell_type": "code",
   "execution_count": 6,
   "metadata": {},
   "outputs": [
    {
     "data": {
      "application/vnd.jupyter.widget-view+json": {
       "model_id": "",
       "version_major": 2,
       "version_minor": 0
      },
      "text/plain": [
       "FloatProgress(value=0.0, bar_style='info', description='Progress:', layout=Layout(height='25px', width='50%'),…"
      ]
     },
     "metadata": {},
     "output_type": "display_data"
    },
    {
     "name": "stdout",
     "output_type": "stream",
     "text": [
      "<class 'pyspark.sql.dataframe.DataFrame'>"
     ]
    }
   ],
   "source": [
    "type(weatherdata2000)"
   ]
  },
  {
   "cell_type": "markdown",
   "metadata": {},
   "source": [
    "The printSchema() method is useful to list the types of each column."
   ]
  },
  {
   "cell_type": "code",
   "execution_count": 7,
   "metadata": {},
   "outputs": [
    {
     "data": {
      "application/vnd.jupyter.widget-view+json": {
       "model_id": "",
       "version_major": 2,
       "version_minor": 0
      },
      "text/plain": [
       "FloatProgress(value=0.0, bar_style='info', description='Progress:', layout=Layout(height='25px', width='50%'),…"
      ]
     },
     "metadata": {},
     "output_type": "display_data"
    },
    {
     "name": "stdout",
     "output_type": "stream",
     "text": [
      "root\n",
      " |-- ID: string (nullable = true)\n",
      " |-- USAF: string (nullable = true)\n",
      " |-- WBAN: string (nullable = true)\n",
      " |-- Elevation: string (nullable = true)\n",
      " |-- Country_Code: string (nullable = true)\n",
      " |-- Latitude: string (nullable = true)\n",
      " |-- Longitude: string (nullable = true)\n",
      " |-- Date: string (nullable = true)\n",
      " |-- Year: string (nullable = true)\n",
      " |-- Month: string (nullable = true)\n",
      " |-- Day: string (nullable = true)\n",
      " |-- Mean_Temp: string (nullable = true)\n",
      " |-- Mean_Temp_Count: string (nullable = true)\n",
      " |-- Mean_Dewpoint: string (nullable = true)\n",
      " |-- Mean_Dewpoint_Count: string (nullable = true)\n",
      " |-- Mean_Sea_Level_Pressure: string (nullable = true)\n",
      " |-- Mean_Sea_Level_Pressure_Count: string (nullable = true)\n",
      " |-- Mean_Station_Pressure: string (nullable = true)\n",
      " |-- Mean_Station_Pressure_Count: string (nullable = true)\n",
      " |-- Mean_Visibility: string (nullable = true)\n",
      " |-- Mean_Visibility_Count: string (nullable = true)\n",
      " |-- Mean_Windspeed: string (nullable = true)\n",
      " |-- Mean_Windspeed_Count: string (nullable = true)\n",
      " |-- Max_Windspeed: string (nullable = true)\n",
      " |-- Max_Gust: string (nullable = true)\n",
      " |-- Max_Temp: string (nullable = true)\n",
      " |-- Max_Temp_Quality_Flag: string (nullable = true)\n",
      " |-- Min_Temp: string (nullable = true)\n",
      " |-- Min_Temp_Quality_Flag: string (nullable = true)\n",
      " |-- Precipitation: string (nullable = true)\n",
      " |-- Precip_Flag: string (nullable = true)\n",
      " |-- Snow_Depth: string (nullable = true)\n",
      " |-- Fog: string (nullable = true)\n",
      " |-- Rain_or_Drizzle: string (nullable = true)\n",
      " |-- Snow_or_Ice: string (nullable = true)\n",
      " |-- Hail: string (nullable = true)\n",
      " |-- Thunder: string (nullable = true)\n",
      " |-- Tornado: string (nullable = true)"
     ]
    }
   ],
   "source": [
    "weatherdata2000.printSchema()"
   ]
  },
  {
   "cell_type": "markdown",
   "metadata": {},
   "source": [
    "Use the count() method to show that this dataset has over 2.5 million rows."
   ]
  },
  {
   "cell_type": "code",
   "execution_count": 8,
   "metadata": {},
   "outputs": [
    {
     "data": {
      "application/vnd.jupyter.widget-view+json": {
       "model_id": "",
       "version_major": 2,
       "version_minor": 0
      },
      "text/plain": [
       "FloatProgress(value=0.0, bar_style='info', description='Progress:', layout=Layout(height='25px', width='50%'),…"
      ]
     },
     "metadata": {},
     "output_type": "display_data"
    },
    {
     "name": "stdout",
     "output_type": "stream",
     "text": [
      "2546978"
     ]
    }
   ],
   "source": [
    "weatherdata2000.count()"
   ]
  },
  {
   "cell_type": "markdown",
   "metadata": {},
   "source": [
    "Show a few rows"
   ]
  },
  {
   "cell_type": "code",
   "execution_count": 9,
   "metadata": {},
   "outputs": [
    {
     "data": {
      "application/vnd.jupyter.widget-view+json": {
       "model_id": "",
       "version_major": 2,
       "version_minor": 0
      },
      "text/plain": [
       "FloatProgress(value=0.0, bar_style='info', description='Progress:', layout=Layout(height='25px', width='50%'),…"
      ]
     },
     "metadata": {},
     "output_type": "display_data"
    },
    {
     "name": "stdout",
     "output_type": "stream",
     "text": [
      "+------------+------+-----+---------+------------+--------+---------+----------+----+-----+---+---------+---------------+-------------+-------------------+-----------------------+-----------------------------+---------------------+---------------------------+---------------+---------------------+--------------+--------------------+-------------+--------+--------+---------------------+--------+---------------------+-------------+-----------+----------+---+---------------+-----------+----+-------+-------+\n",
      "|          ID|  USAF| WBAN|Elevation|Country_Code|Latitude|Longitude|      Date|Year|Month|Day|Mean_Temp|Mean_Temp_Count|Mean_Dewpoint|Mean_Dewpoint_Count|Mean_Sea_Level_Pressure|Mean_Sea_Level_Pressure_Count|Mean_Station_Pressure|Mean_Station_Pressure_Count|Mean_Visibility|Mean_Visibility_Count|Mean_Windspeed|Mean_Windspeed_Count|Max_Windspeed|Max_Gust|Max_Temp|Max_Temp_Quality_Flag|Min_Temp|Min_Temp_Quality_Flag|Precipitation|Precip_Flag|Snow_Depth|Fog|Rain_or_Drizzle|Snow_or_Ice|Hail|Thunder|Tornado|\n",
      "+------------+------+-----+---------+------------+--------+---------+----------+----+-----+---+---------+---------------+-------------+-------------------+-----------------------+-----------------------------+---------------------+---------------------------+---------------+---------------------+--------------+--------------------+-------------+--------+--------+---------------------+--------+---------------------+-------------+-----------+----------+---+---------------+-----------+----+-------+-------+\n",
      "|719250-99999|719250|99999|     27.4|          CA|  69.108| -105.138|2000-01-01|2000|   01| 01|    -14.2|             24|        -23.0|                 24|                  990.5|                           24|                987.3|                          8|            1.7|                   24|          23.6|                  24|         33.0|    37.9|    -4.0|                    1|   -29.9|                    1|         0.03|          D|       6.7|  0|              0|          0|   0|      0|      0|\n",
      "|719250-99999|719250|99999|     27.4|          CA|  69.108| -105.138|2000-01-02|2000|   01| 02|     -8.0|             24|        -17.1|                 24|                  992.7|                           24|                988.6|                          8|            4.7|                   24|          19.0|                  24|         29.9|    38.1|    -4.0|                    1|   -14.8|                    1|         0.00|          G|       6.7|  0|              0|          1|   0|      0|      0|\n",
      "|719250-99999|719250|99999|     27.4|          CA|  69.108| -105.138|2000-01-03|2000|   01| 03|     -3.6|             24|        -12.4|                 24|                 1000.6|                           24|                996.6|                          8|            4.1|                   24|          17.5|                  24|         26.0|    29.9|     1.4|                    1|   -16.6|                    1|         0.01|          G|       7.9|  1|              0|          1|   0|      0|      0|\n",
      "|719250-99999|719250|99999|     27.4|          CA|  69.108| -105.138|2000-01-04|2000|   01| 04|    -14.0|             23|        -23.4|                 23|                 1006.3|                           23|               1002.8|                          8|            8.2|                   23|           9.7|                  23|         15.0|    29.9|     1.0|                    0|   -26.1|                    0|         0.04|          G|       7.9|  0|              0|          1|   0|      0|      0|\n",
      "|719250-99999|719250|99999|     27.4|          CA|  69.108| -105.138|2000-01-05|2000|   01| 05|     -9.9|             22|        -19.3|                 22|                 1005.0|                           22|               1001.1|                          7|            8.7|                   22|          13.0|                  22|         20.0|    26.0|    -0.4|                    1|   -27.4|                    1|         0.03|          G|       7.9|  0|              0|          1|   0|      0|      0|\n",
      "+------------+------+-----+---------+------------+--------+---------+----------+----+-----+---+---------+---------------+-------------+-------------------+-----------------------+-----------------------------+---------------------+---------------------------+---------------+---------------------+--------------+--------------------+-------------+--------+--------+---------------------+--------+---------------------+-------------+-----------+----------+---+---------------+-----------+----+-------+-------+\n",
      "only showing top 5 rows"
     ]
    }
   ],
   "source": [
    "weatherdata2000.show(5)"
   ]
  },
  {
   "cell_type": "markdown",
   "metadata": {},
   "source": [
    "Here is a neater way to display the same data:"
   ]
  },
  {
   "cell_type": "code",
   "execution_count": 10,
   "metadata": {},
   "outputs": [
    {
     "data": {
      "application/vnd.jupyter.widget-view+json": {
       "model_id": "",
       "version_major": 2,
       "version_minor": 0
      },
      "text/plain": [
       "FloatProgress(value=0.0, bar_style='info', description='Progress:', layout=Layout(height='25px', width='50%'),…"
      ]
     },
     "metadata": {},
     "output_type": "display_data"
    },
    {
     "name": "stdout",
     "output_type": "stream",
     "text": [
      "-RECORD 0-------------------------------------\n",
      " ID                            | 719250-99999 \n",
      " USAF                          | 719250       \n",
      " WBAN                          | 99999        \n",
      " Elevation                     | 27.4         \n",
      " Country_Code                  | CA           \n",
      " Latitude                      | 69.108       \n",
      " Longitude                     | -105.138     \n",
      " Date                          | 2000-01-01   \n",
      " Year                          | 2000         \n",
      " Month                         | 01           \n",
      " Day                           | 01           \n",
      " Mean_Temp                     | -14.2        \n",
      " Mean_Temp_Count               | 24           \n",
      " Mean_Dewpoint                 | -23.0        \n",
      " Mean_Dewpoint_Count           | 24           \n",
      " Mean_Sea_Level_Pressure       | 990.5        \n",
      " Mean_Sea_Level_Pressure_Count | 24           \n",
      " Mean_Station_Pressure         | 987.3        \n",
      " Mean_Station_Pressure_Count   | 8            \n",
      " Mean_Visibility               | 1.7          \n",
      " Mean_Visibility_Count         | 24           \n",
      " Mean_Windspeed                | 23.6         \n",
      " Mean_Windspeed_Count          | 24           \n",
      " Max_Windspeed                 | 33.0         \n",
      " Max_Gust                      | 37.9         \n",
      " Max_Temp                      | -4.0         \n",
      " Max_Temp_Quality_Flag         | 1            \n",
      " Min_Temp                      | -29.9        \n",
      " Min_Temp_Quality_Flag         | 1            \n",
      " Precipitation                 | 0.03         \n",
      " Precip_Flag                   | D            \n",
      " Snow_Depth                    | 6.7          \n",
      " Fog                           | 0            \n",
      " Rain_or_Drizzle               | 0            \n",
      " Snow_or_Ice                   | 0            \n",
      " Hail                          | 0            \n",
      " Thunder                       | 0            \n",
      " Tornado                       | 0            \n",
      "-RECORD 1-------------------------------------\n",
      " ID                            | 719250-99999 \n",
      " USAF                          | 719250       \n",
      " WBAN                          | 99999        \n",
      " Elevation                     | 27.4         \n",
      " Country_Code                  | CA           \n",
      " Latitude                      | 69.108       \n",
      " Longitude                     | -105.138     \n",
      " Date                          | 2000-01-02   \n",
      " Year                          | 2000         \n",
      " Month                         | 01           \n",
      " Day                           | 02           \n",
      " Mean_Temp                     | -8.0         \n",
      " Mean_Temp_Count               | 24           \n",
      " Mean_Dewpoint                 | -17.1        \n",
      " Mean_Dewpoint_Count           | 24           \n",
      " Mean_Sea_Level_Pressure       | 992.7        \n",
      " Mean_Sea_Level_Pressure_Count | 24           \n",
      " Mean_Station_Pressure         | 988.6        \n",
      " Mean_Station_Pressure_Count   | 8            \n",
      " Mean_Visibility               | 4.7          \n",
      " Mean_Visibility_Count         | 24           \n",
      " Mean_Windspeed                | 19.0         \n",
      " Mean_Windspeed_Count          | 24           \n",
      " Max_Windspeed                 | 29.9         \n",
      " Max_Gust                      | 38.1         \n",
      " Max_Temp                      | -4.0         \n",
      " Max_Temp_Quality_Flag         | 1            \n",
      " Min_Temp                      | -14.8        \n",
      " Min_Temp_Quality_Flag         | 1            \n",
      " Precipitation                 | 0.00         \n",
      " Precip_Flag                   | G            \n",
      " Snow_Depth                    | 6.7          \n",
      " Fog                           | 0            \n",
      " Rain_or_Drizzle               | 0            \n",
      " Snow_or_Ice                   | 1            \n",
      " Hail                          | 0            \n",
      " Thunder                       | 0            \n",
      " Tornado                       | 0            \n",
      "-RECORD 2-------------------------------------\n",
      " ID                            | 719250-99999 \n",
      " USAF                          | 719250       \n",
      " WBAN                          | 99999        \n",
      " Elevation                     | 27.4         \n",
      " Country_Code                  | CA           \n",
      " Latitude                      | 69.108       \n",
      " Longitude                     | -105.138     \n",
      " Date                          | 2000-01-03   \n",
      " Year                          | 2000         \n",
      " Month                         | 01           \n",
      " Day                           | 03           \n",
      " Mean_Temp                     | -3.6         \n",
      " Mean_Temp_Count               | 24           \n",
      " Mean_Dewpoint                 | -12.4        \n",
      " Mean_Dewpoint_Count           | 24           \n",
      " Mean_Sea_Level_Pressure       | 1000.6       \n",
      " Mean_Sea_Level_Pressure_Count | 24           \n",
      " Mean_Station_Pressure         | 996.6        \n",
      " Mean_Station_Pressure_Count   | 8            \n",
      " Mean_Visibility               | 4.1          \n",
      " Mean_Visibility_Count         | 24           \n",
      " Mean_Windspeed                | 17.5         \n",
      " Mean_Windspeed_Count          | 24           \n",
      " Max_Windspeed                 | 26.0         \n",
      " Max_Gust                      | 29.9         \n",
      " Max_Temp                      | 1.4          \n",
      " Max_Temp_Quality_Flag         | 1            \n",
      " Min_Temp                      | -16.6        \n",
      " Min_Temp_Quality_Flag         | 1            \n",
      " Precipitation                 | 0.01         \n",
      " Precip_Flag                   | G            \n",
      " Snow_Depth                    | 7.9          \n",
      " Fog                           | 1            \n",
      " Rain_or_Drizzle               | 0            \n",
      " Snow_or_Ice                   | 1            \n",
      " Hail                          | 0            \n",
      " Thunder                       | 0            \n",
      " Tornado                       | 0            \n",
      "-RECORD 3-------------------------------------\n",
      " ID                            | 719250-99999 \n",
      " USAF                          | 719250       \n",
      " WBAN                          | 99999        \n",
      " Elevation                     | 27.4         \n",
      " Country_Code                  | CA           \n",
      " Latitude                      | 69.108       \n",
      " Longitude                     | -105.138     \n",
      " Date                          | 2000-01-04   \n",
      " Year                          | 2000         \n",
      " Month                         | 01           \n",
      " Day                           | 04           \n",
      " Mean_Temp                     | -14.0        \n",
      " Mean_Temp_Count               | 23           \n",
      " Mean_Dewpoint                 | -23.4        \n",
      " Mean_Dewpoint_Count           | 23           \n",
      " Mean_Sea_Level_Pressure       | 1006.3       \n",
      " Mean_Sea_Level_Pressure_Count | 23           \n",
      " Mean_Station_Pressure         | 1002.8       \n",
      " Mean_Station_Pressure_Count   | 8            \n",
      " Mean_Visibility               | 8.2          \n",
      " Mean_Visibility_Count         | 23           \n",
      " Mean_Windspeed                | 9.7          \n",
      " Mean_Windspeed_Count          | 23           \n",
      " Max_Windspeed                 | 15.0         \n",
      " Max_Gust                      | 29.9         \n",
      " Max_Temp                      | 1.0          \n",
      " Max_Temp_Quality_Flag         | 0            \n",
      " Min_Temp                      | -26.1        \n",
      " Min_Temp_Quality_Flag         | 0            \n",
      " Precipitation                 | 0.04         \n",
      " Precip_Flag                   | G            \n",
      " Snow_Depth                    | 7.9          \n",
      " Fog                           | 0            \n",
      " Rain_or_Drizzle               | 0            \n",
      " Snow_or_Ice                   | 1            \n",
      " Hail                          | 0            \n",
      " Thunder                       | 0            \n",
      " Tornado                       | 0            \n",
      "-RECORD 4-------------------------------------\n",
      " ID                            | 719250-99999 \n",
      " USAF                          | 719250       \n",
      " WBAN                          | 99999        \n",
      " Elevation                     | 27.4         \n",
      " Country_Code                  | CA           \n",
      " Latitude                      | 69.108       \n",
      " Longitude                     | -105.138     \n",
      " Date                          | 2000-01-05   \n",
      " Year                          | 2000         \n",
      " Month                         | 01           \n",
      " Day                           | 05           \n",
      " Mean_Temp                     | -9.9         \n",
      " Mean_Temp_Count               | 22           \n",
      " Mean_Dewpoint                 | -19.3        \n",
      " Mean_Dewpoint_Count           | 22           \n",
      " Mean_Sea_Level_Pressure       | 1005.0       \n",
      " Mean_Sea_Level_Pressure_Count | 22           \n",
      " Mean_Station_Pressure         | 1001.1       \n",
      " Mean_Station_Pressure_Count   | 7            \n",
      " Mean_Visibility               | 8.7          \n",
      " Mean_Visibility_Count         | 22           \n",
      " Mean_Windspeed                | 13.0         \n",
      " Mean_Windspeed_Count          | 22           \n",
      " Max_Windspeed                 | 20.0         \n",
      " Max_Gust                      | 26.0         \n",
      " Max_Temp                      | -0.4         \n",
      " Max_Temp_Quality_Flag         | 1            \n",
      " Min_Temp                      | -27.4        \n",
      " Min_Temp_Quality_Flag         | 1            \n",
      " Precipitation                 | 0.03         \n",
      " Precip_Flag                   | G            \n",
      " Snow_Depth                    | 7.9          \n",
      " Fog                           | 0            \n",
      " Rain_or_Drizzle               | 0            \n",
      " Snow_or_Ice                   | 1            \n",
      " Hail                          | 0            \n",
      " Thunder                       | 0            \n",
      " Tornado                       | 0            \n",
      "only showing top 5 rows"
     ]
    }
   ],
   "source": [
    "weatherdata2000.show(n=5, truncate=False, vertical=True)"
   ]
  },
  {
   "cell_type": "markdown",
   "metadata": {},
   "source": [
    "The following cell creates a Pandas dataframe that contains data for one weather station."
   ]
  },
  {
   "cell_type": "code",
   "execution_count": 11,
   "metadata": {},
   "outputs": [
    {
     "data": {
      "application/vnd.jupyter.widget-view+json": {
       "model_id": "",
       "version_major": 2,
       "version_minor": 0
      },
      "text/plain": [
       "FloatProgress(value=0.0, bar_style='info', description='Progress:', layout=Layout(height='25px', width='50%'),…"
      ]
     },
     "metadata": {},
     "output_type": "display_data"
    },
    {
     "data": {
      "application/vnd.jupyter.widget-view+json": {
       "model_id": "",
       "version_major": 2,
       "version_minor": 0
      },
      "text/plain": [
       "FloatProgress(value=0.0, bar_style='info', description='Progress:', layout=Layout(height='25px', width='50%'),…"
      ]
     },
     "metadata": {},
     "output_type": "display_data"
    }
   ],
   "source": [
    "%%spark -o syd_pdf\n",
    "syd_pdf = weatherdata2000.filter(weatherdata2000.USAF == '947680')"
   ]
  },
  {
   "cell_type": "markdown",
   "metadata": {},
   "source": [
    "Here is a reference list of a few weather station locations by USAF, in case you would like to try another location.\n",
    "\n",
    "947680 - Sydney\n",
    "\n",
    "948680 - Melbourne\n",
    "\n",
    "486980 - Singapore\n",
    "\n",
    "725033 - New York\n",
    "\n",
    "583620 - Shanghai\n",
    "\n",
    "037683 - London"
   ]
  },
  {
   "cell_type": "code",
   "execution_count": 12,
   "metadata": {
    "scrolled": true
   },
   "outputs": [
    {
     "data": {
      "text/plain": [
       "pandas.core.frame.DataFrame"
      ]
     },
     "execution_count": 12,
     "metadata": {},
     "output_type": "execute_result"
    }
   ],
   "source": [
    "%%local\n",
    "type(syd_pdf)"
   ]
  },
  {
   "cell_type": "markdown",
   "metadata": {},
   "source": [
    "We see it is now a familiar Pandas dataframe. Being of manageable size, one may work with it using Pandas."
   ]
  },
  {
   "cell_type": "code",
   "execution_count": 13,
   "metadata": {},
   "outputs": [
    {
     "data": {
      "text/plain": [
       "(366, 34)"
      ]
     },
     "execution_count": 13,
     "metadata": {},
     "output_type": "execute_result"
    }
   ],
   "source": [
    "%%local\n",
    "syd_pdf.shape"
   ]
  },
  {
   "cell_type": "markdown",
   "metadata": {},
   "source": [
    "**Exercise**: Create a line chart of this dataframe using Date on the x axis and Mean_Temp on the y axis. Note that the cell below is enough to get us started.\n",
    "\n",
    "**Bonus**: Convert the temperature to degrees Celcius before plotting."
   ]
  },
  {
   "cell_type": "code",
   "execution_count": 14,
   "metadata": {},
   "outputs": [
    {
     "data": {
      "application/vnd.jupyter.widget-view+json": {
       "model_id": "849adf56e3304dceb8873d9dcde999c2",
       "version_major": 2,
       "version_minor": 0
      },
      "text/plain": [
       "VBox(children=(HBox(children=(HTML(value='Type:'), Button(description='Table', layout=Layout(width='70px'), st…"
      ]
     },
     "metadata": {},
     "output_type": "display_data"
    },
    {
     "data": {
      "application/vnd.jupyter.widget-view+json": {
       "model_id": "da644ad488d44c119a555aaab2ad3858",
       "version_major": 2,
       "version_minor": 0
      },
      "text/plain": [
       "Output()"
      ]
     },
     "metadata": {},
     "output_type": "display_data"
    }
   ],
   "source": [
    "%%local\n",
    "syd_pdf"
   ]
  },
  {
   "cell_type": "markdown",
   "metadata": {},
   "source": [
    "PySpark has `groupby`, `filter`, `select` and `describe` as commonly used methods. For example the following cell summarises the Max_Temp column in weatherdata2000."
   ]
  },
  {
   "cell_type": "code",
   "execution_count": 15,
   "metadata": {},
   "outputs": [
    {
     "data": {
      "application/vnd.jupyter.widget-view+json": {
       "model_id": "",
       "version_major": 2,
       "version_minor": 0
      },
      "text/plain": [
       "FloatProgress(value=0.0, bar_style='info', description='Progress:', layout=Layout(height='25px', width='50%'),…"
      ]
     },
     "metadata": {},
     "output_type": "display_data"
    },
    {
     "name": "stdout",
     "output_type": "stream",
     "text": [
      "+-------+------------------+\n",
      "|summary|          Max_Temp|\n",
      "+-------+------------------+\n",
      "|  count|           2544696|\n",
      "|   mean|63.654217281750064|\n",
      "| stddev|23.569468189725317|\n",
      "|    min|              -0.2|\n",
      "|    max|              99.9|\n",
      "+-------+------------------+"
     ]
    }
   ],
   "source": [
    "weatherdata2000.describe(['Max_Temp']).show()"
   ]
  },
  {
   "cell_type": "markdown",
   "metadata": {},
   "source": [
    "Note the max does not seem to exceed 100 because the values of this field are still strings. We shall use the following code to convert the types of a few columns."
   ]
  },
  {
   "cell_type": "code",
   "execution_count": 16,
   "metadata": {},
   "outputs": [
    {
     "data": {
      "application/vnd.jupyter.widget-view+json": {
       "model_id": "",
       "version_major": 2,
       "version_minor": 0
      },
      "text/plain": [
       "FloatProgress(value=0.0, bar_style='info', description='Progress:', layout=Layout(height='25px', width='50%'),…"
      ]
     },
     "metadata": {},
     "output_type": "display_data"
    }
   ],
   "source": [
    "from pyspark.sql.functions import avg\n",
    "from pyspark.sql.functions import col"
   ]
  },
  {
   "cell_type": "code",
   "execution_count": 17,
   "metadata": {},
   "outputs": [
    {
     "data": {
      "application/vnd.jupyter.widget-view+json": {
       "model_id": "",
       "version_major": 2,
       "version_minor": 0
      },
      "text/plain": [
       "FloatProgress(value=0.0, bar_style='info', description='Progress:', layout=Layout(height='25px', width='50%'),…"
      ]
     },
     "metadata": {},
     "output_type": "display_data"
    }
   ],
   "source": [
    "cols = ['Max_Temp', 'Mean_Temp', 'Min_Temp']\n",
    "\n",
    "for col_name in cols:\n",
    "    weatherdata2000 = weatherdata2000.withColumn(col_name, col(col_name).cast('float'))"
   ]
  },
  {
   "cell_type": "markdown",
   "metadata": {},
   "source": [
    "Verify that this did as intended:"
   ]
  },
  {
   "cell_type": "code",
   "execution_count": 18,
   "metadata": {},
   "outputs": [
    {
     "data": {
      "application/vnd.jupyter.widget-view+json": {
       "model_id": "",
       "version_major": 2,
       "version_minor": 0
      },
      "text/plain": [
       "FloatProgress(value=0.0, bar_style='info', description='Progress:', layout=Layout(height='25px', width='50%'),…"
      ]
     },
     "metadata": {},
     "output_type": "display_data"
    },
    {
     "name": "stdout",
     "output_type": "stream",
     "text": [
      "+-------+-----------------+\n",
      "|summary|         Max_Temp|\n",
      "+-------+-----------------+\n",
      "|  count|          2544696|\n",
      "|   mean|63.65421727994728|\n",
      "| stddev|23.56946819213572|\n",
      "|    min|           -108.9|\n",
      "|    max|            130.6|\n",
      "+-------+-----------------+"
     ]
    }
   ],
   "source": [
    "weatherdata2000.describe(['Max_Temp']).show()"
   ]
  },
  {
   "cell_type": "markdown",
   "metadata": {},
   "source": [
    "**Exercise**: How many records in weatherdata2000 have Country_Code of 'AS' (Australia)?"
   ]
  },
  {
   "cell_type": "code",
   "execution_count": 19,
   "metadata": {},
   "outputs": [
    {
     "data": {
      "application/vnd.jupyter.widget-view+json": {
       "model_id": "",
       "version_major": 2,
       "version_minor": 0
      },
      "text/plain": [
       "FloatProgress(value=0.0, bar_style='info', description='Progress:', layout=Layout(height='25px', width='50%'),…"
      ]
     },
     "metadata": {},
     "output_type": "display_data"
    },
    {
     "name": "stdout",
     "output_type": "stream",
     "text": [
      "155257"
     ]
    }
   ],
   "source": [
    "weatherdata2000.filter(weatherdata2000.Country_Code=='AS').count()"
   ]
  },
  {
   "cell_type": "markdown",
   "metadata": {},
   "source": [
    "**Exercise**: Write a groupby query to determine the 10 hottest weather stations by average maximum temperature (i.e. averaged over the year for each station ID). Show four column headings: ID, Latitude, Longitude and the average maximum temperature."
   ]
  },
  {
   "cell_type": "code",
   "execution_count": 20,
   "metadata": {},
   "outputs": [
    {
     "data": {
      "application/vnd.jupyter.widget-view+json": {
       "model_id": "",
       "version_major": 2,
       "version_minor": 0
      },
      "text/plain": [
       "FloatProgress(value=0.0, bar_style='info', description='Progress:', layout=Layout(height='25px', width='50%'),…"
      ]
     },
     "metadata": {},
     "output_type": "display_data"
    },
    {
     "name": "stdout",
     "output_type": "stream",
     "text": [
      "+------------+--------+---------+------------------+\n",
      "|          ID|Latitude|Longitude|             AvMax|\n",
      "+------------+--------+---------+------------------+\n",
      "|647530-99999|  17.917|   19.111|108.05000305175781|\n",
      "|626800-99999|    17.7|   33.967|101.52674752093375|\n",
      "|410300-99999|  21.433|   39.767| 101.3207650940275|\n",
      "|627330-99999|  15.317|     35.6|100.91104301499443|\n",
      "|652450-99999|    6.15|    6.783|100.80000305175781|\n",
      "|651010-99999|    8.44|    4.494|100.45000076293945|\n",
      "|689260-99999| -34.083|    21.25| 100.4000015258789|\n",
      "|612720-99999|    13.4|    -6.15|100.34505471030434|\n",
      "|626400-99999|  19.533|   33.317|100.18717189154889|\n",
      "|626600-99999|   18.55|    31.85|100.10089523543172|\n",
      "+------------+--------+---------+------------------+\n",
      "only showing top 10 rows"
     ]
    }
   ],
   "source": [
    "weatherdata2000.groupby('ID', 'Latitude', 'Longitude').agg(avg('Max_Temp').alias('AvMax')).sort(col('AvMax').desc()).show(10)"
   ]
  },
  {
   "cell_type": "markdown",
   "metadata": {},
   "source": [
    "**Optional**: If time permits look up PySpark documentation to investigate other ways to analyse the data."
   ]
  },
  {
   "cell_type": "markdown",
   "metadata": {},
   "source": [
    "### 5. Closing AWS instances"
   ]
  },
  {
   "cell_type": "markdown",
   "metadata": {},
   "source": [
    "**Firstly, ensure you have saved your notebook locally** before performing this. Also give yourself sufficient time at the end of the day (10 minutes) to complete this.\n",
    "\n",
    "Stop your SageMaker instance by returning to the \"Notebook instances\" page, selecting your instance and then under Actions select \"Stop\". Then once the status shows \"Stop\" you may delete this instance. \n",
    "\n",
    "Terminate the EMR cluster by selecting it in the console and then pressing the Terminate button. A window might show that your cluster has termination protection turned on. Select \"Turn off protection\", select the tick button and then hit the red terminate button."
   ]
  },
  {
   "cell_type": "markdown",
   "metadata": {},
   "source": [
    "Once the EMR, EC2 and SageMaker consoles are clear of active instances, you may sign out of AWS.\n",
    "\n",
    "\n",
    "After a couple of days log into https://console.aws.amazon.com/billing/home?/costexplorer#/costexplorer via AWS Educate to see if there are still running charges."
   ]
  },
  {
   "cell_type": "markdown",
   "metadata": {},
   "source": [
    "### Further reference\n",
    "\n",
    "https://github.com/aws/amazon-sagemaker-examples"
   ]
  },
  {
   "cell_type": "markdown",
   "metadata": {
    "colab_type": "text",
    "id": "s7RYU3nMmX-R"
   },
   "source": [
    "\n",
    "\n",
    "---\n",
    "\n",
    "\n",
    "\n",
    "---\n",
    "\n",
    "\n",
    "\n",
    "> > > > > > > > > © 2021 Institute of Data\n",
    "\n",
    "\n",
    "---\n",
    "\n",
    "\n",
    "\n",
    "---\n",
    "\n",
    "\n",
    "\n"
   ]
  }
 ],
 "metadata": {
  "kernelspec": {
   "display_name": "Python 3 (ipykernel)",
   "language": "python",
   "name": "python3"
  },
  "language_info": {
   "codemirror_mode": {
    "name": "ipython",
    "version": 3
   },
   "file_extension": ".py",
   "mimetype": "text/x-python",
   "name": "python",
   "nbconvert_exporter": "python",
   "pygments_lexer": "ipython3",
   "version": "3.8.12"
  }
 },
 "nbformat": 4,
 "nbformat_minor": 4
}
